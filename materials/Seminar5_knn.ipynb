{
 "cells": [
  {
   "cell_type": "code",
   "execution_count": 17,
   "id": "3ac6481b",
   "metadata": {},
   "outputs": [
    {
     "name": "stderr",
     "output_type": "stream",
     "text": [
      "/Users/nadiinchi/opt/anaconda3/lib/python3.9/site-packages/openpyxl/worksheet/_reader.py:312: UserWarning: Unknown extension is not supported and will be removed\n",
      "  warn(msg)\n"
     ]
    }
   ],
   "source": [
    "import pandas as pd\n",
    "data = pd.read_excel(\"https://github.com/nadiinchi/intro_sklearn/blob/master/boston_houses.xlsx?raw=true\")"
   ]
  },
  {
   "cell_type": "code",
   "execution_count": 18,
   "id": "5b41d57d",
   "metadata": {},
   "outputs": [
    {
     "data": {
      "text/html": [
       "<div>\n",
       "<style scoped>\n",
       "    .dataframe tbody tr th:only-of-type {\n",
       "        vertical-align: middle;\n",
       "    }\n",
       "\n",
       "    .dataframe tbody tr th {\n",
       "        vertical-align: top;\n",
       "    }\n",
       "\n",
       "    .dataframe thead th {\n",
       "        text-align: right;\n",
       "    }\n",
       "</style>\n",
       "<table border=\"1\" class=\"dataframe\">\n",
       "  <thead>\n",
       "    <tr style=\"text-align: right;\">\n",
       "      <th></th>\n",
       "      <th>crim_rate</th>\n",
       "      <th>zn</th>\n",
       "      <th>business</th>\n",
       "      <th>river</th>\n",
       "      <th>nit_oxiden</th>\n",
       "      <th>rooms</th>\n",
       "      <th>age</th>\n",
       "      <th>dist</th>\n",
       "      <th>highways_index</th>\n",
       "      <th>tax</th>\n",
       "      <th>pup_per_teaс</th>\n",
       "      <th>lower</th>\n",
       "      <th>target</th>\n",
       "    </tr>\n",
       "  </thead>\n",
       "  <tbody>\n",
       "    <tr>\n",
       "      <th>0</th>\n",
       "      <td>0.000000</td>\n",
       "      <td>0.18</td>\n",
       "      <td>0.067815</td>\n",
       "      <td>0</td>\n",
       "      <td>0.314815</td>\n",
       "      <td>0.577505</td>\n",
       "      <td>0.641607</td>\n",
       "      <td>0.269203</td>\n",
       "      <td>0.000000</td>\n",
       "      <td>0.208015</td>\n",
       "      <td>0.287234</td>\n",
       "      <td>0.089680</td>\n",
       "      <td>24.0</td>\n",
       "    </tr>\n",
       "    <tr>\n",
       "      <th>1</th>\n",
       "      <td>0.000236</td>\n",
       "      <td>0.00</td>\n",
       "      <td>0.242302</td>\n",
       "      <td>0</td>\n",
       "      <td>0.172840</td>\n",
       "      <td>0.547998</td>\n",
       "      <td>0.782698</td>\n",
       "      <td>0.348962</td>\n",
       "      <td>0.043478</td>\n",
       "      <td>0.104962</td>\n",
       "      <td>0.553191</td>\n",
       "      <td>0.204470</td>\n",
       "      <td>21.6</td>\n",
       "    </tr>\n",
       "    <tr>\n",
       "      <th>2</th>\n",
       "      <td>0.000236</td>\n",
       "      <td>0.00</td>\n",
       "      <td>0.242302</td>\n",
       "      <td>0</td>\n",
       "      <td>0.172840</td>\n",
       "      <td>0.694386</td>\n",
       "      <td>0.599382</td>\n",
       "      <td>0.348962</td>\n",
       "      <td>0.043478</td>\n",
       "      <td>0.104962</td>\n",
       "      <td>0.553191</td>\n",
       "      <td>0.063466</td>\n",
       "      <td>34.7</td>\n",
       "    </tr>\n",
       "    <tr>\n",
       "      <th>3</th>\n",
       "      <td>0.000293</td>\n",
       "      <td>0.00</td>\n",
       "      <td>0.063050</td>\n",
       "      <td>0</td>\n",
       "      <td>0.150206</td>\n",
       "      <td>0.658555</td>\n",
       "      <td>0.441813</td>\n",
       "      <td>0.448545</td>\n",
       "      <td>0.086957</td>\n",
       "      <td>0.066794</td>\n",
       "      <td>0.648936</td>\n",
       "      <td>0.033389</td>\n",
       "      <td>33.4</td>\n",
       "    </tr>\n",
       "    <tr>\n",
       "      <th>4</th>\n",
       "      <td>0.000705</td>\n",
       "      <td>0.00</td>\n",
       "      <td>0.063050</td>\n",
       "      <td>0</td>\n",
       "      <td>0.150206</td>\n",
       "      <td>0.687105</td>\n",
       "      <td>0.528321</td>\n",
       "      <td>0.448545</td>\n",
       "      <td>0.086957</td>\n",
       "      <td>0.066794</td>\n",
       "      <td>0.648936</td>\n",
       "      <td>0.099338</td>\n",
       "      <td>36.2</td>\n",
       "    </tr>\n",
       "  </tbody>\n",
       "</table>\n",
       "</div>"
      ],
      "text/plain": [
       "   crim_rate    zn  business  river  nit_oxiden     rooms       age      dist  \\\n",
       "0   0.000000  0.18  0.067815      0    0.314815  0.577505  0.641607  0.269203   \n",
       "1   0.000236  0.00  0.242302      0    0.172840  0.547998  0.782698  0.348962   \n",
       "2   0.000236  0.00  0.242302      0    0.172840  0.694386  0.599382  0.348962   \n",
       "3   0.000293  0.00  0.063050      0    0.150206  0.658555  0.441813  0.448545   \n",
       "4   0.000705  0.00  0.063050      0    0.150206  0.687105  0.528321  0.448545   \n",
       "\n",
       "   highways_index       tax  pup_per_teaс     lower  target  \n",
       "0        0.000000  0.208015      0.287234  0.089680    24.0  \n",
       "1        0.043478  0.104962      0.553191  0.204470    21.6  \n",
       "2        0.043478  0.104962      0.553191  0.063466    34.7  \n",
       "3        0.086957  0.066794      0.648936  0.033389    33.4  \n",
       "4        0.086957  0.066794      0.648936  0.099338    36.2  "
      ]
     },
     "execution_count": 18,
     "metadata": {},
     "output_type": "execute_result"
    }
   ],
   "source": [
    "data.head()"
   ]
  },
  {
   "cell_type": "code",
   "execution_count": 31,
   "id": "0e326127",
   "metadata": {},
   "outputs": [],
   "source": [
    "X = data[data.columns[:-1]]\n",
    "y = data[\"target\"]\n",
    "\n",
    "from sklearn.model_selection import train_test_split\n",
    "X_tr, X_te, y_tr, y_te = train_test_split(X, y, test_size=0.3)"
   ]
  },
  {
   "cell_type": "code",
   "execution_count": 27,
   "id": "f33ff759",
   "metadata": {},
   "outputs": [
    {
     "data": {
      "text/plain": [
       "((354, 12), (152, 12), (354,), (152,))"
      ]
     },
     "execution_count": 27,
     "metadata": {},
     "output_type": "execute_result"
    }
   ],
   "source": [
    "X_tr.shape, X_te.shape, y_tr.shape, y_te.shape"
   ]
  },
  {
   "cell_type": "markdown",
   "id": "35751f8e",
   "metadata": {},
   "source": [
    "Задача:\n",
    "    \n",
    "* обучение, предсказание, качество - с к по умолчанию\n",
    "\n",
    "* попробовать k от 1 до 20 и построить график качества на обучении и качества на тесте"
   ]
  },
  {
   "cell_type": "code",
   "execution_count": 21,
   "id": "337f8c26",
   "metadata": {},
   "outputs": [],
   "source": [
    "KNeighborsRegressor(n_neighbors=5)\n",
    "\n",
    "from matplotlib import pyplot as plt\n",
    "%matplotlib inline\n",
    "\n",
    "#plt.plot(xs, ys)\n",
    "#plt.xlabel(\"подпись икс\") # ylabel"
   ]
  },
  {
   "cell_type": "code",
   "execution_count": 35,
   "id": "fb1b0033",
   "metadata": {},
   "outputs": [],
   "source": [
    "# Следующая задача\n",
    "class MyNormalizer:\n",
    "    def fit(self, X):\n",
    "        # считает статистики по столбцам и сохраняет\n",
    "        self.means = X.mean(axis=0)\n",
    "        self.stds = X.std(axis=0)\n",
    "        \n",
    "    def transform(self, X):\n",
    "        # трансформирует данные, используя ранее сохраненные статистики\n",
    "        X_new = (X - self.means[None, :]) / self.stds[None, :]\n",
    "        return X_new\n",
    "        \n",
    "# Numpy: np.mean, np.std, np.min, np.max, / *, axis="
   ]
  },
  {
   "cell_type": "code",
   "execution_count": null,
   "id": "a5c1c4af",
   "metadata": {},
   "outputs": [],
   "source": [
    "from sklearn.neighbors import KNeighborsRegressor\n",
    "from sklearn.metrics import mean_absolute_error"
   ]
  },
  {
   "cell_type": "code",
   "execution_count": null,
   "id": "c3fa7500",
   "metadata": {},
   "outputs": [],
   "source": [
    "model = KNeighborsRegressor()\n",
    "model.fit(X_tr, y_tr)\n",
    "preds_tr = model.predict(X_tr)\n",
    "preds_te = model.predict(X_te)\n",
    "tr_err = mean_absolute_error(y_tr, preds_tr)\n",
    "te_err = mean_absolute_error(y_te, preds_te)\n",
    "print(tr_err, te_err)"
   ]
  },
  {
   "cell_type": "code",
   "execution_count": 32,
   "id": "de28a809",
   "metadata": {},
   "outputs": [],
   "source": [
    "def do_all(k=5):\n",
    "    model = KNeighborsRegressor(n_neighbors=k)\n",
    "    model.fit(X_tr, y_tr)\n",
    "    preds_tr = model.predict(X_tr)\n",
    "    preds_te = model.predict(X_te)\n",
    "    tr_err = mean_absolute_error(y_tr, preds_tr)\n",
    "    te_err = mean_absolute_error(y_te, preds_te)\n",
    "    return tr_err, te_err"
   ]
  },
  {
   "cell_type": "code",
   "execution_count": 33,
   "id": "deb15644",
   "metadata": {},
   "outputs": [],
   "source": [
    "tr_errs = []\n",
    "te_errs = []\n",
    "ks = []\n",
    "for k in range(1, 21):\n",
    "    tr_err, te_err = do_all(k)\n",
    "    tr_errs.append(tr_err)\n",
    "    te_errs.append(te_err)\n",
    "    ks.append(k)"
   ]
  },
  {
   "cell_type": "code",
   "execution_count": 34,
   "id": "de50bcd5",
   "metadata": {},
   "outputs": [
    {
     "data": {
      "text/plain": [
       "Text(0, 0.5, 'Error')"
      ]
     },
     "execution_count": 34,
     "metadata": {},
     "output_type": "execute_result"
    },
    {
     "data": {
      "image/png": "[encoded data removed]",
      "text/plain": [
       "<Figure size 432x288 with 1 Axes>"
      ]
     },
     "metadata": {
      "needs_background": "light"
     },
     "output_type": "display_data"
    }
   ],
   "source": [
    "plt.plot(ks, tr_errs, label=\"Train\")\n",
    "plt.plot(ks, te_errs, label=\"Test\")\n",
    "plt.legend()\n",
    "plt.xlabel(\"k\")\n",
    "plt.ylabel(\"Error\")"
   ]
  },
  {
   "cell_type": "code",
   "execution_count": null,
   "id": "3a5ce7ee",
   "metadata": {},
   "outputs": [],
   "source": []
  }
 ],
 "metadata": {
  "kernelspec": {
   "display_name": "Python 3 (ipykernel)",
   "language": "python",
   "name": "python3"
  },
  "language_info": {
   "codemirror_mode": {
    "name": "ipython",
    "version": 3
   },
   "file_extension": ".py",
   "mimetype": "text/x-python",
   "name": "python",
   "nbconvert_exporter": "python",
   "pygments_lexer": "ipython3",
   "version": "3.9.7"
  }
 },
 "nbformat": 4,
 "nbformat_minor": 5
}
