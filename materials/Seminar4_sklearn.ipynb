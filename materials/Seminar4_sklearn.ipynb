{
 "cells": [
  {
   "cell_type": "markdown",
   "id": "6f1cfb45",
   "metadata": {},
   "source": [
    "# Классы в питоне"
   ]
  },
  {
   "cell_type": "code",
   "execution_count": null,
   "id": "4ad08d17",
   "metadata": {},
   "outputs": [],
   "source": [
    "# функция\n",
    "def count(x):\n",
    "    return x+1"
   ]
  },
  {
   "cell_type": "code",
   "execution_count": 15,
   "id": "524799c9",
   "metadata": {},
   "outputs": [],
   "source": [
    "import numpy as np"
   ]
  },
  {
   "cell_type": "code",
   "execution_count": 16,
   "id": "dbfc8922",
   "metadata": {},
   "outputs": [],
   "source": [
    "class MeanComputer:\n",
    "    def __init__(self, use_mean=True):\n",
    "        print(\"I'm initing\")\n",
    "        self.numbers = []\n",
    "        self.use_mean = use_mean\n",
    "    \n",
    "    def add_number(self, number):\n",
    "        self.numbers.append(number)\n",
    "    \n",
    "    def print_mean(self):\n",
    "        if self.use_mean:\n",
    "            mean = sum(self.numbers) / len(self.numbers)\n",
    "            print(\"Mean = \", mean)\n",
    "        else:\n",
    "            median = np.median(self.numbers)\n",
    "            print(\"Median = \", median)"
   ]
  },
  {
   "cell_type": "markdown",
   "id": "94fad6dd",
   "metadata": {},
   "source": [
    "класс Fruits:\n",
    "    функция add_fruit: добавляет новую строчку в список фруктов\n",
    "    функция print_fruits: печатает \"У меня есть фрукты: \" и через запятую перечисляет все фрукты\n",
    "    \n",
    "Более сложная версия: функция print_fruits: печатает \"I have fruits: \" и через запятую перечисляет _сколько каких фруктов_, например 2 apples, 1 banana\n",
    "И чтобы в init было переключение между двумя режимами!\n",
    "    "
   ]
  },
  {
   "cell_type": "code",
   "execution_count": 27,
   "id": "9b0e11dc",
   "metadata": {},
   "outputs": [
    {
     "data": {
      "text/plain": [
       "'apple,,, orange,,, banana'"
      ]
     },
     "execution_count": 27,
     "metadata": {},
     "output_type": "execute_result"
    }
   ],
   "source": [
    "fruits = [\"apple\", \"orange\", \"banana\"]\n",
    "\",,, \".join(fruits)"
   ]
  },
  {
   "cell_type": "code",
   "execution_count": 24,
   "id": "edaf5082",
   "metadata": {},
   "outputs": [
    {
     "name": "stdout",
     "output_type": "stream",
     "text": [
      "I'm initing\n",
      "Mean =  75.0\n"
     ]
    }
   ],
   "source": [
    "computer = MeanComputer(use_mean=True)\n",
    "computer.add_number(10)\n",
    "computer.add_number(15)\n",
    "computer.add_number(200)\n",
    "computer.print_mean()"
   ]
  },
  {
   "cell_type": "code",
   "execution_count": 25,
   "id": "60d33ec2",
   "metadata": {},
   "outputs": [
    {
     "name": "stdout",
     "output_type": "stream",
     "text": [
      "I'm initing\n",
      "Median =  15.0\n"
     ]
    }
   ],
   "source": [
    "computer = MeanComputer(use_mean=False)\n",
    "computer.add_number(10)\n",
    "computer.add_number(15)\n",
    "computer.add_number(200)\n",
    "computer.print_mean()"
   ]
  },
  {
   "cell_type": "code",
   "execution_count": 22,
   "id": "ee82480a",
   "metadata": {},
   "outputs": [
    {
     "name": "stdout",
     "output_type": "stream",
     "text": [
      "[10, 15, 200]\n",
      "False\n"
     ]
    }
   ],
   "source": [
    "print(computer.numbers)\n",
    "print(computer.use_mean)"
   ]
  },
  {
   "cell_type": "code",
   "execution_count": 23,
   "id": "f41c04ea",
   "metadata": {},
   "outputs": [
    {
     "ename": "AttributeError",
     "evalue": "'MeanComputer' object has no attribute 'median'",
     "output_type": "error",
     "traceback": [
      "\u001b[0;31m---------------------------------------------------------------------------\u001b[0m",
      "\u001b[0;31mAttributeError\u001b[0m                            Traceback (most recent call last)",
      "\u001b[0;32m/var/folders/km/48839x3d6qs8h2y9vsg_by680000gn/T/ipykernel_71903/2747143045.py\u001b[0m in \u001b[0;36m<module>\u001b[0;34m\u001b[0m\n\u001b[0;32m----> 1\u001b[0;31m \u001b[0mcomputer\u001b[0m\u001b[0;34m.\u001b[0m\u001b[0mmedian\u001b[0m\u001b[0;34m\u001b[0m\u001b[0;34m\u001b[0m\u001b[0m\n\u001b[0m",
      "\u001b[0;31mAttributeError\u001b[0m: 'MeanComputer' object has no attribute 'median'"
     ]
    }
   ],
   "source": [
    "# такого атрибута нет\n",
    "computer.median"
   ]
  },
  {
   "cell_type": "code",
   "execution_count": 36,
   "id": "61f48385",
   "metadata": {},
   "outputs": [],
   "source": [
    "class Fruits:\n",
    "    def __init__(self):\n",
    "        self.fruits = []\n",
    "        \n",
    "    def add_fruit(self, fruit):\n",
    "        self.fruits.append(fruit)\n",
    "        \n",
    "    def print_fruits(self):\n",
    "        #print(self.fruits)\n",
    "        #print(\", \".join(self.fruits))\n",
    "        print(\"I have fruits: \"+\", \".join(self.fruits))"
   ]
  },
  {
   "cell_type": "code",
   "execution_count": 38,
   "id": "ce97bb3e",
   "metadata": {},
   "outputs": [
    {
     "name": "stdout",
     "output_type": "stream",
     "text": [
      "I have fruits: apple, orange, banana, apple, watermellon, watermellon, watermellon\n"
     ]
    }
   ],
   "source": [
    "fruits = Fruits()\n",
    "fruits.add_fruit(\"apple\")\n",
    "fruits.add_fruit(\"orange\")\n",
    "fruits.add_fruit(\"banana\")\n",
    "fruits.add_fruit(\"apple\")\n",
    "fruits.add_fruit(\"watermellon\")\n",
    "fruits.add_fruit(\"watermellon\")\n",
    "fruits.add_fruit(\"watermellon\")\n",
    "fruits.print_fruits()"
   ]
  },
  {
   "cell_type": "code",
   "execution_count": 47,
   "id": "ddb62a19",
   "metadata": {},
   "outputs": [],
   "source": [
    "class Fruits:\n",
    "    def __init__(self, use_repeats=False):\n",
    "        self.use_repeats = use_repeats\n",
    "        if not self.use_repeats:\n",
    "            self.fruits = []\n",
    "        else:\n",
    "            self.fruits = {}\n",
    "        \n",
    "    def add_fruit(self, fruit):\n",
    "        if not self.use_repeats:\n",
    "            self.fruits.append(fruit)\n",
    "        else:\n",
    "            if not fruit in self.fruits:\n",
    "                self.fruits[fruit] = 1\n",
    "            else:\n",
    "                self.fruits[fruit] += 1\n",
    "        \n",
    "    def print_fruits(self):\n",
    "        if not self.use_repeats:\n",
    "            #print(self.fruits)\n",
    "            #print(\", \".join(self.fruits))\n",
    "            print(\"I have fruits: \"+\", \".join(self.fruits))\n",
    "        else:\n",
    "            pairs = [str(count)+\" \"+fruit  for fruit, count in self.fruits.items()]\n",
    "            print(\"I have fruits: \"+\", \".join(pairs))"
   ]
  },
  {
   "cell_type": "code",
   "execution_count": 46,
   "id": "29b2c4f9",
   "metadata": {},
   "outputs": [
    {
     "name": "stdout",
     "output_type": "stream",
     "text": [
      "['2 orange', '1 banana']\n"
     ]
    },
    {
     "data": {
      "text/plain": [
       "'2 orange, 1 banana'"
      ]
     },
     "execution_count": 46,
     "metadata": {},
     "output_type": "execute_result"
    }
   ],
   "source": [
    "fruits = {\"orange\":2, \"banana\":1}\n",
    "pairs = [str(count)+\" \"+fruit  for fruit, count in fruits.items()]\n",
    "print(pairs)\n",
    "\", \".join(pairs)"
   ]
  },
  {
   "cell_type": "code",
   "execution_count": 43,
   "id": "e017e791",
   "metadata": {},
   "outputs": [
    {
     "data": {
      "text/plain": [
       "dict_items([('orange', 2), ('banana', 1)])"
      ]
     },
     "execution_count": 43,
     "metadata": {},
     "output_type": "execute_result"
    }
   ],
   "source": [
    "fruits.items()"
   ]
  },
  {
   "cell_type": "code",
   "execution_count": 49,
   "id": "7d2c1d6e",
   "metadata": {},
   "outputs": [
    {
     "name": "stdout",
     "output_type": "stream",
     "text": [
      "I have fruits: 2 apple, 1 orange, 1 banana, 3 watermellon\n"
     ]
    }
   ],
   "source": [
    "fruits = Fruits(use_repeats=True)\n",
    "fruits.add_fruit(\"apple\")\n",
    "fruits.add_fruit(\"orange\")\n",
    "fruits.add_fruit(\"banana\")\n",
    "fruits.add_fruit(\"apple\")\n",
    "fruits.add_fruit(\"watermellon\")\n",
    "fruits.add_fruit(\"watermellon\")\n",
    "fruits.add_fruit(\"watermellon\")\n",
    "fruits.print_fruits()"
   ]
  },
  {
   "cell_type": "markdown",
   "id": "4086b1cd",
   "metadata": {},
   "source": [
    "### Sklearn"
   ]
  },
  {
   "cell_type": "code",
   "execution_count": null,
   "id": "b964ac96",
   "metadata": {},
   "outputs": [],
   "source": [
    "class LinearRegression:\n",
    "    def __init__(self, ):\n",
    "        pass\n",
    "    \n",
    "    def fit(self, X, y):\n",
    "    # обучение\n",
    "        self.weights = .... # параметры\n",
    "    \n",
    "    def predict(self, X):\n",
    "    # предсказание\n",
    "        y_pred = .... self.weights....."
   ]
  },
  {
   "cell_type": "markdown",
   "id": "02850140",
   "metadata": {},
   "source": [
    "### Загрузим данные и обучим модель с помощью sklearn"
   ]
  },
  {
   "cell_type": "code",
   "execution_count": 50,
   "id": "18ca5fee",
   "metadata": {},
   "outputs": [],
   "source": [
    "import pandas as pd"
   ]
  },
  {
   "cell_type": "code",
   "execution_count": 51,
   "id": "715b90eb",
   "metadata": {},
   "outputs": [
    {
     "name": "stderr",
     "output_type": "stream",
     "text": [
      "/Users/nadiinchi/opt/anaconda3/lib/python3.9/site-packages/openpyxl/worksheet/_reader.py:312: UserWarning: Unknown extension is not supported and will be removed\n",
      "  warn(msg)\n"
     ]
    }
   ],
   "source": [
    "data = pd.read_excel(\"https://github.com/nadiinchi/intro_sklearn/blob/master/boston_houses.xlsx?raw=true\")"
   ]
  },
  {
   "cell_type": "code",
   "execution_count": 52,
   "id": "855a95e3",
   "metadata": {},
   "outputs": [
    {
     "data": {
      "text/html": [
       "<div>\n",
       "<style scoped>\n",
       "    .dataframe tbody tr th:only-of-type {\n",
       "        vertical-align: middle;\n",
       "    }\n",
       "\n",
       "    .dataframe tbody tr th {\n",
       "        vertical-align: top;\n",
       "    }\n",
       "\n",
       "    .dataframe thead th {\n",
       "        text-align: right;\n",
       "    }\n",
       "</style>\n",
       "<table border=\"1\" class=\"dataframe\">\n",
       "  <thead>\n",
       "    <tr style=\"text-align: right;\">\n",
       "      <th></th>\n",
       "      <th>crim_rate</th>\n",
       "      <th>zn</th>\n",
       "      <th>business</th>\n",
       "      <th>river</th>\n",
       "      <th>nit_oxiden</th>\n",
       "      <th>rooms</th>\n",
       "      <th>age</th>\n",
       "      <th>dist</th>\n",
       "      <th>highways_index</th>\n",
       "      <th>tax</th>\n",
       "      <th>pup_per_teaс</th>\n",
       "      <th>lower</th>\n",
       "      <th>target</th>\n",
       "    </tr>\n",
       "  </thead>\n",
       "  <tbody>\n",
       "    <tr>\n",
       "      <th>0</th>\n",
       "      <td>0.000000</td>\n",
       "      <td>0.18</td>\n",
       "      <td>0.067815</td>\n",
       "      <td>0</td>\n",
       "      <td>0.314815</td>\n",
       "      <td>0.577505</td>\n",
       "      <td>0.641607</td>\n",
       "      <td>0.269203</td>\n",
       "      <td>0.000000</td>\n",
       "      <td>0.208015</td>\n",
       "      <td>0.287234</td>\n",
       "      <td>0.089680</td>\n",
       "      <td>24.0</td>\n",
       "    </tr>\n",
       "    <tr>\n",
       "      <th>1</th>\n",
       "      <td>0.000236</td>\n",
       "      <td>0.00</td>\n",
       "      <td>0.242302</td>\n",
       "      <td>0</td>\n",
       "      <td>0.172840</td>\n",
       "      <td>0.547998</td>\n",
       "      <td>0.782698</td>\n",
       "      <td>0.348962</td>\n",
       "      <td>0.043478</td>\n",
       "      <td>0.104962</td>\n",
       "      <td>0.553191</td>\n",
       "      <td>0.204470</td>\n",
       "      <td>21.6</td>\n",
       "    </tr>\n",
       "    <tr>\n",
       "      <th>2</th>\n",
       "      <td>0.000236</td>\n",
       "      <td>0.00</td>\n",
       "      <td>0.242302</td>\n",
       "      <td>0</td>\n",
       "      <td>0.172840</td>\n",
       "      <td>0.694386</td>\n",
       "      <td>0.599382</td>\n",
       "      <td>0.348962</td>\n",
       "      <td>0.043478</td>\n",
       "      <td>0.104962</td>\n",
       "      <td>0.553191</td>\n",
       "      <td>0.063466</td>\n",
       "      <td>34.7</td>\n",
       "    </tr>\n",
       "    <tr>\n",
       "      <th>3</th>\n",
       "      <td>0.000293</td>\n",
       "      <td>0.00</td>\n",
       "      <td>0.063050</td>\n",
       "      <td>0</td>\n",
       "      <td>0.150206</td>\n",
       "      <td>0.658555</td>\n",
       "      <td>0.441813</td>\n",
       "      <td>0.448545</td>\n",
       "      <td>0.086957</td>\n",
       "      <td>0.066794</td>\n",
       "      <td>0.648936</td>\n",
       "      <td>0.033389</td>\n",
       "      <td>33.4</td>\n",
       "    </tr>\n",
       "    <tr>\n",
       "      <th>4</th>\n",
       "      <td>0.000705</td>\n",
       "      <td>0.00</td>\n",
       "      <td>0.063050</td>\n",
       "      <td>0</td>\n",
       "      <td>0.150206</td>\n",
       "      <td>0.687105</td>\n",
       "      <td>0.528321</td>\n",
       "      <td>0.448545</td>\n",
       "      <td>0.086957</td>\n",
       "      <td>0.066794</td>\n",
       "      <td>0.648936</td>\n",
       "      <td>0.099338</td>\n",
       "      <td>36.2</td>\n",
       "    </tr>\n",
       "  </tbody>\n",
       "</table>\n",
       "</div>"
      ],
      "text/plain": [
       "   crim_rate    zn  business  river  nit_oxiden     rooms       age      dist  \\\n",
       "0   0.000000  0.18  0.067815      0    0.314815  0.577505  0.641607  0.269203   \n",
       "1   0.000236  0.00  0.242302      0    0.172840  0.547998  0.782698  0.348962   \n",
       "2   0.000236  0.00  0.242302      0    0.172840  0.694386  0.599382  0.348962   \n",
       "3   0.000293  0.00  0.063050      0    0.150206  0.658555  0.441813  0.448545   \n",
       "4   0.000705  0.00  0.063050      0    0.150206  0.687105  0.528321  0.448545   \n",
       "\n",
       "   highways_index       tax  pup_per_teaс     lower  target  \n",
       "0        0.000000  0.208015      0.287234  0.089680    24.0  \n",
       "1        0.043478  0.104962      0.553191  0.204470    21.6  \n",
       "2        0.043478  0.104962      0.553191  0.063466    34.7  \n",
       "3        0.086957  0.066794      0.648936  0.033389    33.4  \n",
       "4        0.086957  0.066794      0.648936  0.099338    36.2  "
      ]
     },
     "execution_count": 52,
     "metadata": {},
     "output_type": "execute_result"
    }
   ],
   "source": [
    "data.head()"
   ]
  },
  {
   "cell_type": "markdown",
   "id": "9ca021bc",
   "metadata": {},
   "source": [
    "#### Небольшая подготовка данных"
   ]
  },
  {
   "cell_type": "code",
   "execution_count": 54,
   "id": "3a6e1e74",
   "metadata": {},
   "outputs": [],
   "source": [
    "X = data[data.columns[:-1]]\n",
    "y = data[\"target\"]"
   ]
  },
  {
   "cell_type": "code",
   "execution_count": 55,
   "id": "d2f7d49a",
   "metadata": {},
   "outputs": [
    {
     "data": {
      "text/html": [
       "<div>\n",
       "<style scoped>\n",
       "    .dataframe tbody tr th:only-of-type {\n",
       "        vertical-align: middle;\n",
       "    }\n",
       "\n",
       "    .dataframe tbody tr th {\n",
       "        vertical-align: top;\n",
       "    }\n",
       "\n",
       "    .dataframe thead th {\n",
       "        text-align: right;\n",
       "    }\n",
       "</style>\n",
       "<table border=\"1\" class=\"dataframe\">\n",
       "  <thead>\n",
       "    <tr style=\"text-align: right;\">\n",
       "      <th></th>\n",
       "      <th>crim_rate</th>\n",
       "      <th>zn</th>\n",
       "      <th>business</th>\n",
       "      <th>river</th>\n",
       "      <th>nit_oxiden</th>\n",
       "      <th>rooms</th>\n",
       "      <th>age</th>\n",
       "      <th>dist</th>\n",
       "      <th>highways_index</th>\n",
       "      <th>tax</th>\n",
       "      <th>pup_per_teaс</th>\n",
       "      <th>lower</th>\n",
       "    </tr>\n",
       "  </thead>\n",
       "  <tbody>\n",
       "    <tr>\n",
       "      <th>0</th>\n",
       "      <td>0.000000</td>\n",
       "      <td>0.18</td>\n",
       "      <td>0.067815</td>\n",
       "      <td>0</td>\n",
       "      <td>0.314815</td>\n",
       "      <td>0.577505</td>\n",
       "      <td>0.641607</td>\n",
       "      <td>0.269203</td>\n",
       "      <td>0.000000</td>\n",
       "      <td>0.208015</td>\n",
       "      <td>0.287234</td>\n",
       "      <td>0.089680</td>\n",
       "    </tr>\n",
       "    <tr>\n",
       "      <th>1</th>\n",
       "      <td>0.000236</td>\n",
       "      <td>0.00</td>\n",
       "      <td>0.242302</td>\n",
       "      <td>0</td>\n",
       "      <td>0.172840</td>\n",
       "      <td>0.547998</td>\n",
       "      <td>0.782698</td>\n",
       "      <td>0.348962</td>\n",
       "      <td>0.043478</td>\n",
       "      <td>0.104962</td>\n",
       "      <td>0.553191</td>\n",
       "      <td>0.204470</td>\n",
       "    </tr>\n",
       "    <tr>\n",
       "      <th>2</th>\n",
       "      <td>0.000236</td>\n",
       "      <td>0.00</td>\n",
       "      <td>0.242302</td>\n",
       "      <td>0</td>\n",
       "      <td>0.172840</td>\n",
       "      <td>0.694386</td>\n",
       "      <td>0.599382</td>\n",
       "      <td>0.348962</td>\n",
       "      <td>0.043478</td>\n",
       "      <td>0.104962</td>\n",
       "      <td>0.553191</td>\n",
       "      <td>0.063466</td>\n",
       "    </tr>\n",
       "    <tr>\n",
       "      <th>3</th>\n",
       "      <td>0.000293</td>\n",
       "      <td>0.00</td>\n",
       "      <td>0.063050</td>\n",
       "      <td>0</td>\n",
       "      <td>0.150206</td>\n",
       "      <td>0.658555</td>\n",
       "      <td>0.441813</td>\n",
       "      <td>0.448545</td>\n",
       "      <td>0.086957</td>\n",
       "      <td>0.066794</td>\n",
       "      <td>0.648936</td>\n",
       "      <td>0.033389</td>\n",
       "    </tr>\n",
       "    <tr>\n",
       "      <th>4</th>\n",
       "      <td>0.000705</td>\n",
       "      <td>0.00</td>\n",
       "      <td>0.063050</td>\n",
       "      <td>0</td>\n",
       "      <td>0.150206</td>\n",
       "      <td>0.687105</td>\n",
       "      <td>0.528321</td>\n",
       "      <td>0.448545</td>\n",
       "      <td>0.086957</td>\n",
       "      <td>0.066794</td>\n",
       "      <td>0.648936</td>\n",
       "      <td>0.099338</td>\n",
       "    </tr>\n",
       "  </tbody>\n",
       "</table>\n",
       "</div>"
      ],
      "text/plain": [
       "   crim_rate    zn  business  river  nit_oxiden     rooms       age      dist  \\\n",
       "0   0.000000  0.18  0.067815      0    0.314815  0.577505  0.641607  0.269203   \n",
       "1   0.000236  0.00  0.242302      0    0.172840  0.547998  0.782698  0.348962   \n",
       "2   0.000236  0.00  0.242302      0    0.172840  0.694386  0.599382  0.348962   \n",
       "3   0.000293  0.00  0.063050      0    0.150206  0.658555  0.441813  0.448545   \n",
       "4   0.000705  0.00  0.063050      0    0.150206  0.687105  0.528321  0.448545   \n",
       "\n",
       "   highways_index       tax  pup_per_teaс     lower  \n",
       "0        0.000000  0.208015      0.287234  0.089680  \n",
       "1        0.043478  0.104962      0.553191  0.204470  \n",
       "2        0.043478  0.104962      0.553191  0.063466  \n",
       "3        0.086957  0.066794      0.648936  0.033389  \n",
       "4        0.086957  0.066794      0.648936  0.099338  "
      ]
     },
     "execution_count": 55,
     "metadata": {},
     "output_type": "execute_result"
    }
   ],
   "source": [
    "X.head()"
   ]
  },
  {
   "cell_type": "code",
   "execution_count": 56,
   "id": "389a4813",
   "metadata": {},
   "outputs": [
    {
     "data": {
      "text/plain": [
       "0    24.0\n",
       "1    21.6\n",
       "2    34.7\n",
       "3    33.4\n",
       "4    36.2\n",
       "Name: target, dtype: float64"
      ]
     },
     "execution_count": 56,
     "metadata": {},
     "output_type": "execute_result"
    }
   ],
   "source": [
    "y.head()"
   ]
  },
  {
   "cell_type": "code",
   "execution_count": 58,
   "id": "c77f108b",
   "metadata": {},
   "outputs": [],
   "source": [
    "from sklearn.model_selection import train_test_split"
   ]
  },
  {
   "cell_type": "code",
   "execution_count": 59,
   "id": "6672240d",
   "metadata": {},
   "outputs": [],
   "source": [
    "X_tr, X_te, y_tr, y_te = train_test_split(X, y, test_size=0.3)"
   ]
  },
  {
   "cell_type": "code",
   "execution_count": 60,
   "id": "e8f97ba9",
   "metadata": {},
   "outputs": [
    {
     "data": {
      "text/plain": [
       "(354, 12)"
      ]
     },
     "execution_count": 60,
     "metadata": {},
     "output_type": "execute_result"
    }
   ],
   "source": [
    "X_tr.shape"
   ]
  },
  {
   "cell_type": "code",
   "execution_count": 61,
   "id": "63a5473a",
   "metadata": {},
   "outputs": [
    {
     "data": {
      "text/plain": [
       "(152, 12)"
      ]
     },
     "execution_count": 61,
     "metadata": {},
     "output_type": "execute_result"
    }
   ],
   "source": [
    "X_te.shape"
   ]
  },
  {
   "cell_type": "markdown",
   "id": "13a294cd",
   "metadata": {},
   "source": [
    "#### Обучение модели"
   ]
  },
  {
   "cell_type": "code",
   "execution_count": 62,
   "id": "dd73d672",
   "metadata": {},
   "outputs": [],
   "source": [
    "from sklearn.linear_model import LinearRegression"
   ]
  },
  {
   "cell_type": "code",
   "execution_count": 66,
   "id": "f007da76",
   "metadata": {},
   "outputs": [
    {
     "data": {
      "text/plain": [
       "LinearRegression()"
      ]
     },
     "execution_count": 66,
     "metadata": {},
     "output_type": "execute_result"
    }
   ],
   "source": [
    "model = LinearRegression()\n",
    "model.fit(X_tr, y_tr)"
   ]
  },
  {
   "cell_type": "code",
   "execution_count": 67,
   "id": "46a13cb5",
   "metadata": {},
   "outputs": [
    {
     "data": {
      "text/plain": [
       "array([-10.36522468,   5.66486556,  -0.82676784,   3.8016534 ,\n",
       "        -8.75383967,  18.51235222,  -0.38773334, -17.45733344,\n",
       "         5.60470817,  -6.09813121,  -7.98080278, -17.44787074])"
      ]
     },
     "execution_count": 67,
     "metadata": {},
     "output_type": "execute_result"
    }
   ],
   "source": [
    "model.coef_ # тут хранятся параметры"
   ]
  },
  {
   "cell_type": "markdown",
   "id": "aada2c13",
   "metadata": {},
   "source": [
    "#### Предсказание"
   ]
  },
  {
   "cell_type": "code",
   "execution_count": 68,
   "id": "b199b47a",
   "metadata": {},
   "outputs": [],
   "source": [
    "preds_tr = model.predict(X_tr)\n",
    "preds_te = model.predict(X_te)"
   ]
  },
  {
   "cell_type": "code",
   "execution_count": 71,
   "id": "2e7fe3ea",
   "metadata": {},
   "outputs": [
    {
     "data": {
      "text/plain": [
       "array([19.49351706, 22.69746652, 31.93550633, 17.62007815, 17.42656531,\n",
       "        7.43479707, 14.47970801, 23.96957512, 18.65632618, 27.72988208])"
      ]
     },
     "execution_count": 71,
     "metadata": {},
     "output_type": "execute_result"
    }
   ],
   "source": [
    "preds_te[:10]"
   ]
  },
  {
   "cell_type": "code",
   "execution_count": 76,
   "id": "9411a4d0",
   "metadata": {},
   "outputs": [
    {
     "data": {
      "text/plain": [
       "array([20.4, 19.8, 33.2, 20.2, 18.4,  8.4, 19.7, 23.1, 18.2, 24.5])"
      ]
     },
     "execution_count": 76,
     "metadata": {},
     "output_type": "execute_result"
    }
   ],
   "source": [
    "y_te[:10].values"
   ]
  },
  {
   "cell_type": "code",
   "execution_count": 80,
   "id": "6895c837",
   "metadata": {},
   "outputs": [
    {
     "data": {
      "text/plain": [
       "22.784868421052636"
      ]
     },
     "execution_count": 80,
     "metadata": {},
     "output_type": "execute_result"
    }
   ],
   "source": [
    "y_te.mean()"
   ]
  },
  {
   "cell_type": "markdown",
   "id": "9d00748e",
   "metadata": {},
   "source": [
    "#### Измерение качества модели"
   ]
  },
  {
   "cell_type": "code",
   "execution_count": 77,
   "id": "b5b825bb",
   "metadata": {},
   "outputs": [],
   "source": [
    "from sklearn.metrics import mean_absolute_error # средняя ошибка"
   ]
  },
  {
   "cell_type": "code",
   "execution_count": 78,
   "id": "7f24e41b",
   "metadata": {},
   "outputs": [
    {
     "data": {
      "text/plain": [
       "3.4060353558761776"
      ]
     },
     "execution_count": 78,
     "metadata": {},
     "output_type": "execute_result"
    }
   ],
   "source": [
    "mean_absolute_error(y_tr, preds_tr)"
   ]
  },
  {
   "cell_type": "code",
   "execution_count": 79,
   "id": "4429b94f",
   "metadata": {},
   "outputs": [
    {
     "data": {
      "text/plain": [
       "3.216743173379625"
      ]
     },
     "execution_count": 79,
     "metadata": {},
     "output_type": "execute_result"
    }
   ],
   "source": [
    "mean_absolute_error(y_te, preds_te)"
   ]
  },
  {
   "cell_type": "code",
   "execution_count": 81,
   "id": "f35729a7",
   "metadata": {},
   "outputs": [],
   "source": [
    "from sklearn.neighbors import KNeighborsRegressor"
   ]
  },
  {
   "cell_type": "code",
   "execution_count": 82,
   "id": "e7e53dec",
   "metadata": {},
   "outputs": [
    {
     "name": "stdout",
     "output_type": "stream",
     "text": [
      "Train: 2.545310734463277\n",
      "Test: 3.4919736842105262\n"
     ]
    }
   ],
   "source": [
    "model = KNeighborsRegressor()\n",
    "model.fit(X_tr, y_tr)\n",
    "preds_tr = model.predict(X_tr)\n",
    "preds_te = model.predict(X_te)\n",
    "print(\"Train:\", mean_absolute_error(y_tr, preds_tr))\n",
    "print(\"Test:\", mean_absolute_error(y_te, preds_te))"
   ]
  },
  {
   "cell_type": "code",
   "execution_count": null,
   "id": "745a5e6c",
   "metadata": {},
   "outputs": [],
   "source": []
  }
 ],
 "metadata": {
  "kernelspec": {
   "display_name": "Python 3 (ipykernel)",
   "language": "python",
   "name": "python3"
  },
  "language_info": {
   "codemirror_mode": {
    "name": "ipython",
    "version": 3
   },
   "file_extension": ".py",
   "mimetype": "text/x-python",
   "name": "python",
   "nbconvert_exporter": "python",
   "pygments_lexer": "ipython3",
   "version": "3.9.7"
  }
 },
 "nbformat": 4,
 "nbformat_minor": 5
}
