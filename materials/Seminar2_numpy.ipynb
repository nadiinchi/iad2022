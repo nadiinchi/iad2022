{
 "cells": [
  {
   "cell_type": "code",
   "execution_count": 1,
   "id": "ee18ebb4",
   "metadata": {},
   "outputs": [],
   "source": [
    "import numpy as np"
   ]
  },
  {
   "cell_type": "code",
   "execution_count": 2,
   "id": "ffbcc608",
   "metadata": {},
   "outputs": [
    {
     "data": {
      "text/plain": [
       "array([[10,  3, 13],\n",
       "       [17,  8,  0],\n",
       "       [15,  7,  3],\n",
       "       [ 2, 19,  1],\n",
       "       [20,  0,  0],\n",
       "       [18,  2,  0],\n",
       "       [ 7, 11,  0]])"
      ]
     },
     "execution_count": 2,
     "metadata": {},
     "output_type": "execute_result"
    }
   ],
   "source": [
    "data = np.array([[10, 3, 13], [17, 8, 0], [15, 7, 3], [2, 19, 1], [20, 0, 0]])\n",
    "data2 = np.array([[18, 2, 0], [7, 11, 0]])\n",
    "new_data = np.vstack((data, data2))\n",
    "new_data"
   ]
  },
  {
   "cell_type": "code",
   "execution_count": 5,
   "id": "8931929f",
   "metadata": {},
   "outputs": [
    {
     "data": {
      "text/plain": [
       "array([[0.69953646, 0.46511698, 0.80828751, 0.61120136, 0.84799397],\n",
       "       [0.82731467, 0.64607878, 0.97165542, 0.52521356, 0.74516622]])"
      ]
     },
     "execution_count": 5,
     "metadata": {},
     "output_type": "execute_result"
    }
   ],
   "source": [
    "m = np.random.rand(2, 5)\n",
    "m"
   ]
  },
  {
   "cell_type": "code",
   "execution_count": 9,
   "id": "91892129",
   "metadata": {},
   "outputs": [
    {
     "data": {
      "text/plain": [
       "array([0, 1, 2, 3, 4, 5, 6, 7])"
      ]
     },
     "execution_count": 9,
     "metadata": {},
     "output_type": "execute_result"
    }
   ],
   "source": [
    "a = np.arange(8)\n",
    "a"
   ]
  },
  {
   "cell_type": "code",
   "execution_count": 7,
   "id": "01a120a1",
   "metadata": {},
   "outputs": [
    {
     "data": {
      "text/plain": [
       "array([1, 2, 3, 4, 5, 6, 7])"
      ]
     },
     "execution_count": 7,
     "metadata": {},
     "output_type": "execute_result"
    }
   ],
   "source": [
    "np.arange(1, 8)"
   ]
  },
  {
   "cell_type": "code",
   "execution_count": 10,
   "id": "fcf52553",
   "metadata": {},
   "outputs": [
    {
     "data": {
      "text/plain": [
       "array([[2.09860938, 1.39535095, 2.42486252, 1.83360407, 2.5439819 ],\n",
       "       [2.48194402, 1.93823635, 2.91496625, 1.57564068, 2.23549865]])"
      ]
     },
     "execution_count": 10,
     "metadata": {},
     "output_type": "execute_result"
    }
   ],
   "source": [
    "m * 3"
   ]
  },
  {
   "cell_type": "code",
   "execution_count": 11,
   "id": "6b2fb57d",
   "metadata": {},
   "outputs": [],
   "source": [
    "m2 = np.random.rand(5, 3)"
   ]
  },
  {
   "cell_type": "code",
   "execution_count": 12,
   "id": "a670dc38",
   "metadata": {},
   "outputs": [
    {
     "data": {
      "text/plain": [
       "array([[1.85341358, 0.6440825 , 1.21139074],\n",
       "       [1.98068826, 0.66872066, 1.3405666 ]])"
      ]
     },
     "execution_count": 12,
     "metadata": {},
     "output_type": "execute_result"
    }
   ],
   "source": [
    "np.dot(m, m2)"
   ]
  },
  {
   "cell_type": "code",
   "execution_count": 15,
   "id": "4db67f17",
   "metadata": {},
   "outputs": [
    {
     "data": {
      "text/plain": [
       "array([3.43213628, 3.71542865])"
      ]
     },
     "execution_count": 15,
     "metadata": {},
     "output_type": "execute_result"
    }
   ],
   "source": [
    "np.sum(m, axis=1)"
   ]
  },
  {
   "cell_type": "code",
   "execution_count": 16,
   "id": "a1d610eb",
   "metadata": {},
   "outputs": [
    {
     "data": {
      "text/plain": [
       "array([[0.69953646, 0.46511698, 0.80828751, 0.61120136, 0.84799397],\n",
       "       [0.82731467, 0.64607878, 0.97165542, 0.52521356, 0.74516622]])"
      ]
     },
     "execution_count": 16,
     "metadata": {},
     "output_type": "execute_result"
    }
   ],
   "source": [
    "m"
   ]
  },
  {
   "cell_type": "code",
   "execution_count": 17,
   "id": "a608b7c3",
   "metadata": {},
   "outputs": [
    {
     "data": {
      "text/plain": [
       "array([1.52685113, 1.11119577, 1.77994293, 1.13641492, 1.59316018])"
      ]
     },
     "execution_count": 17,
     "metadata": {},
     "output_type": "execute_result"
    }
   ],
   "source": [
    "np.sum(m, axis=0)"
   ]
  },
  {
   "cell_type": "code",
   "execution_count": 18,
   "id": "8104c709",
   "metadata": {},
   "outputs": [
    {
     "data": {
      "text/plain": [
       "array([1.52685113, 1.11119577, 1.77994293, 1.13641492, 1.59316018])"
      ]
     },
     "execution_count": 18,
     "metadata": {},
     "output_type": "execute_result"
    }
   ],
   "source": [
    "m.sum(axis=0)"
   ]
  },
  {
   "cell_type": "code",
   "execution_count": 19,
   "id": "8864d2e7",
   "metadata": {},
   "outputs": [
    {
     "data": {
      "text/plain": [
       "array([0.76342557, 0.55559788, 0.88997146, 0.56820746, 0.79658009])"
      ]
     },
     "execution_count": 19,
     "metadata": {},
     "output_type": "execute_result"
    }
   ],
   "source": [
    "m.mean(axis=0)"
   ]
  },
  {
   "cell_type": "code",
   "execution_count": 21,
   "id": "6ba66553",
   "metadata": {},
   "outputs": [
    {
     "data": {
      "text/plain": [
       "array([[0.69953646, 0.46511698, 0.80828751],\n",
       "       [0.82731467, 0.64607878, 0.97165542]])"
      ]
     },
     "execution_count": 21,
     "metadata": {},
     "output_type": "execute_result"
    }
   ],
   "source": [
    "m[:, :3]"
   ]
  },
  {
   "cell_type": "code",
   "execution_count": 23,
   "id": "7df4a9dc",
   "metadata": {},
   "outputs": [
    {
     "data": {
      "text/plain": [
       "array([1.97294095, 2.44504887])"
      ]
     },
     "execution_count": 23,
     "metadata": {},
     "output_type": "execute_result"
    }
   ],
   "source": [
    "np.sum(m[:, :3], axis=1)"
   ]
  },
  {
   "cell_type": "code",
   "execution_count": 24,
   "id": "f56abef2",
   "metadata": {},
   "outputs": [
    {
     "data": {
      "text/plain": [
       "array([[0.69953646, 0.46511698, 0.80828751, 0.61120136, 0.84799397],\n",
       "       [0.82731467, 0.64607878, 0.97165542, 0.52521356, 0.74516622]])"
      ]
     },
     "execution_count": 24,
     "metadata": {},
     "output_type": "execute_result"
    }
   ],
   "source": [
    "m"
   ]
  },
  {
   "cell_type": "code",
   "execution_count": 28,
   "id": "94eba2ea",
   "metadata": {},
   "outputs": [],
   "source": [
    "m[:, 0] = m[:, 3] / 10"
   ]
  },
  {
   "cell_type": "code",
   "execution_count": 29,
   "id": "f5fcbd9a",
   "metadata": {},
   "outputs": [
    {
     "data": {
      "text/plain": [
       "array([[0.06112014, 0.46511698, 0.80828751, 0.61120136, 0.84799397],\n",
       "       [0.05252136, 0.64607878, 0.97165542, 0.52521356, 0.74516622]])"
      ]
     },
     "execution_count": 29,
     "metadata": {},
     "output_type": "execute_result"
    }
   ],
   "source": [
    "m"
   ]
  },
  {
   "cell_type": "code",
   "execution_count": 30,
   "id": "5eec8d35",
   "metadata": {},
   "outputs": [
    {
     "data": {
      "text/plain": [
       "array([[0.06112014, 0.46511698, 0.80828751, 0.61120136, 0.84799397],\n",
       "       [0.05252136, 0.64607878, 0.97165542, 0.52521356, 0.74516622]])"
      ]
     },
     "execution_count": 30,
     "metadata": {},
     "output_type": "execute_result"
    }
   ],
   "source": [
    "m"
   ]
  },
  {
   "cell_type": "code",
   "execution_count": 31,
   "id": "9016f9da",
   "metadata": {},
   "outputs": [],
   "source": [
    "m = np.random.rand(4, 5)"
   ]
  },
  {
   "cell_type": "code",
   "execution_count": 32,
   "id": "1e2b14df",
   "metadata": {},
   "outputs": [
    {
     "data": {
      "text/plain": [
       "array([[0.07474583, 0.14176763, 0.32220562, 0.37992591, 0.55526426],\n",
       "       [0.71330267, 0.52478906, 0.68760646, 0.25945607, 0.00551102],\n",
       "       [0.50150053, 0.77128297, 0.11257152, 0.8102482 , 0.33524837],\n",
       "       [0.53999949, 0.23035366, 0.78184906, 0.00687321, 0.11833905]])"
      ]
     },
     "execution_count": 32,
     "metadata": {},
     "output_type": "execute_result"
    }
   ],
   "source": [
    "m"
   ]
  },
  {
   "cell_type": "markdown",
   "id": "1bd284a6",
   "metadata": {},
   "source": [
    "### Индексация\n",
    "\n",
    "3 вида:\n",
    "* с двоеточиями\n",
    "* по номерам\n",
    "* логическая - из True и False"
   ]
  },
  {
   "cell_type": "code",
   "execution_count": 33,
   "id": "7212133f",
   "metadata": {},
   "outputs": [
    {
     "data": {
      "text/plain": [
       "array([[0.07474583, 0.32220562, 0.55526426],\n",
       "       [0.71330267, 0.68760646, 0.00551102],\n",
       "       [0.50150053, 0.11257152, 0.33524837],\n",
       "       [0.53999949, 0.78184906, 0.11833905]])"
      ]
     },
     "execution_count": 33,
     "metadata": {},
     "output_type": "execute_result"
    }
   ],
   "source": [
    "m[:, ::2]"
   ]
  },
  {
   "cell_type": "code",
   "execution_count": 35,
   "id": "4ad9b3df",
   "metadata": {},
   "outputs": [
    {
     "data": {
      "text/plain": [
       "array([[0.71330267, 0.52478906, 0.68760646, 0.25945607, 0.00551102],\n",
       "       [0.53999949, 0.23035366, 0.78184906, 0.00687321, 0.11833905]])"
      ]
     },
     "execution_count": 35,
     "metadata": {},
     "output_type": "execute_result"
    }
   ],
   "source": [
    "m[1::2]"
   ]
  },
  {
   "cell_type": "code",
   "execution_count": 37,
   "id": "19aedde8",
   "metadata": {},
   "outputs": [
    {
     "data": {
      "text/plain": [
       "array([[0.07474583, 0.14176763, 0.32220562, 0.37992591, 0.55526426],\n",
       "       [0.71330267, 0.52478906, 0.68760646, 0.25945607, 0.00551102],\n",
       "       [0.50150053, 0.77128297, 0.11257152, 0.8102482 , 0.33524837],\n",
       "       [0.53999949, 0.23035366, 0.78184906, 0.00687321, 0.11833905]])"
      ]
     },
     "execution_count": 37,
     "metadata": {},
     "output_type": "execute_result"
    }
   ],
   "source": [
    "m"
   ]
  },
  {
   "cell_type": "code",
   "execution_count": 36,
   "id": "166e2ce5",
   "metadata": {},
   "outputs": [
    {
     "data": {
      "text/plain": [
       "array([[0.07474583, 0.14176763, 0.32220562, 0.37992591, 0.55526426],\n",
       "       [0.50150053, 0.77128297, 0.11257152, 0.8102482 , 0.33524837],\n",
       "       [0.53999949, 0.23035366, 0.78184906, 0.00687321, 0.11833905]])"
      ]
     },
     "execution_count": 36,
     "metadata": {},
     "output_type": "execute_result"
    }
   ],
   "source": [
    "m[[0, 2, 3]]"
   ]
  },
  {
   "cell_type": "code",
   "execution_count": 39,
   "id": "049dfbd8",
   "metadata": {},
   "outputs": [
    {
     "data": {
      "text/plain": [
       "array([[0.14176763, 0.37992591, 0.55526426],\n",
       "       [0.52478906, 0.25945607, 0.00551102],\n",
       "       [0.77128297, 0.8102482 , 0.33524837],\n",
       "       [0.23035366, 0.00687321, 0.11833905]])"
      ]
     },
     "execution_count": 39,
     "metadata": {},
     "output_type": "execute_result"
    }
   ],
   "source": [
    "# выдлите столбцы с номерами 1 3 4\n",
    "m[:, [1, 3, 4]]"
   ]
  },
  {
   "cell_type": "code",
   "execution_count": 40,
   "id": "2e6f2c8f",
   "metadata": {},
   "outputs": [
    {
     "data": {
      "text/plain": [
       "array([[0.14176763, 0.37992591, 0.55526426],\n",
       "       [0.52478906, 0.25945607, 0.00551102],\n",
       "       [0.77128297, 0.8102482 , 0.33524837],\n",
       "       [0.23035366, 0.00687321, 0.11833905]])"
      ]
     },
     "execution_count": 40,
     "metadata": {},
     "output_type": "execute_result"
    }
   ],
   "source": [
    "idxs = np.array([1, 3, 4])\n",
    "m[:, idxs]"
   ]
  },
  {
   "cell_type": "code",
   "execution_count": 41,
   "id": "b2789156",
   "metadata": {},
   "outputs": [
    {
     "data": {
      "text/plain": [
       "array([[0.07474583, 0.14176763, 0.32220562, 0.37992591, 0.55526426],\n",
       "       [0.71330267, 0.52478906, 0.68760646, 0.25945607, 0.00551102],\n",
       "       [0.50150053, 0.77128297, 0.11257152, 0.8102482 , 0.33524837],\n",
       "       [0.53999949, 0.23035366, 0.78184906, 0.00687321, 0.11833905]])"
      ]
     },
     "execution_count": 41,
     "metadata": {},
     "output_type": "execute_result"
    }
   ],
   "source": [
    "m"
   ]
  },
  {
   "cell_type": "code",
   "execution_count": 42,
   "id": "31aaa001",
   "metadata": {},
   "outputs": [
    {
     "data": {
      "text/plain": [
       "array([[0.07474583, 0.14176763, 0.32220562, 0.37992591, 0.55526426],\n",
       "       [0.53999949, 0.23035366, 0.78184906, 0.00687321, 0.11833905]])"
      ]
     },
     "execution_count": 42,
     "metadata": {},
     "output_type": "execute_result"
    }
   ],
   "source": [
    "m[[True, False, False, True]]"
   ]
  },
  {
   "cell_type": "code",
   "execution_count": 43,
   "id": "52f932e5",
   "metadata": {},
   "outputs": [
    {
     "data": {
      "text/plain": [
       "array([[0.32220562, 0.55526426],\n",
       "       [0.68760646, 0.00551102],\n",
       "       [0.11257152, 0.33524837],\n",
       "       [0.78184906, 0.11833905]])"
      ]
     },
     "execution_count": 43,
     "metadata": {},
     "output_type": "execute_result"
    }
   ],
   "source": [
    "m[:, [False, False, True, False, True]]"
   ]
  },
  {
   "cell_type": "code",
   "execution_count": 44,
   "id": "c9e2acf3",
   "metadata": {},
   "outputs": [
    {
     "data": {
      "text/plain": [
       "array([[0.07474583, 0.14176763, 0.32220562, 0.37992591, 0.55526426],\n",
       "       [0.71330267, 0.52478906, 0.68760646, 0.25945607, 0.00551102],\n",
       "       [0.50150053, 0.77128297, 0.11257152, 0.8102482 , 0.33524837],\n",
       "       [0.53999949, 0.23035366, 0.78184906, 0.00687321, 0.11833905]])"
      ]
     },
     "execution_count": 44,
     "metadata": {},
     "output_type": "execute_result"
    }
   ],
   "source": [
    "m"
   ]
  },
  {
   "cell_type": "code",
   "execution_count": 48,
   "id": "03bb19cf",
   "metadata": {},
   "outputs": [
    {
     "name": "stdout",
     "output_type": "stream",
     "text": [
      "[ True  True False False False]\n"
     ]
    },
    {
     "data": {
      "text/plain": [
       "array([[0.07474583, 0.14176763],\n",
       "       [0.71330267, 0.52478906],\n",
       "       [0.50150053, 0.77128297],\n",
       "       [0.53999949, 0.23035366]])"
      ]
     },
     "execution_count": 48,
     "metadata": {},
     "output_type": "execute_result"
    }
   ],
   "source": [
    "# выделить все столбцы, у которых нулевой элемент меньше 0.2\n",
    "print(m[0] < 0.2)\n",
    "m[:, m[0] < 0.2]"
   ]
  },
  {
   "cell_type": "code",
   "execution_count": 50,
   "id": "2123e23e",
   "metadata": {},
   "outputs": [
    {
     "data": {
      "text/plain": [
       "array([[0.07474583, 0.14176763],\n",
       "       [0.71330267, 0.52478906],\n",
       "       [0.50150053, 0.77128297],\n",
       "       [0.53999949, 0.23035366]])"
      ]
     },
     "execution_count": 50,
     "metadata": {},
     "output_type": "execute_result"
    }
   ],
   "source": [
    "mask = m[0] < 0.2\n",
    "m[:, mask]"
   ]
  },
  {
   "cell_type": "code",
   "execution_count": 56,
   "id": "d1509ed3",
   "metadata": {},
   "outputs": [
    {
     "name": "stdout",
     "output_type": "stream",
     "text": [
      "[False  True False False]\n"
     ]
    },
    {
     "data": {
      "text/plain": [
       "array([[0.71330267, 0.52478906, 0.68760646, 0.25945607, 0.00551102]])"
      ]
     },
     "execution_count": 56,
     "metadata": {},
     "output_type": "execute_result"
    }
   ],
   "source": [
    "# выделить все строки, у которых элемент под номером 2 > 0.5\n",
    "mask = np.logical_and(m[:, 2] > 0.5, m[:, 2] < 0.7)\n",
    "print(mask)\n",
    "m[mask]"
   ]
  },
  {
   "cell_type": "code",
   "execution_count": 59,
   "id": "bf630b6c",
   "metadata": {},
   "outputs": [
    {
     "name": "stdout",
     "output_type": "stream",
     "text": [
      "[False  True False False]\n"
     ]
    },
    {
     "data": {
      "text/plain": [
       "array([[0.71330267, 0.52478906, 0.68760646, 0.25945607, 0.00551102]])"
      ]
     },
     "execution_count": 59,
     "metadata": {},
     "output_type": "execute_result"
    }
   ],
   "source": [
    "mask = (m[:, 2] > 0.5) & (m[:, 2] < 0.7)\n",
    "print(mask)\n",
    "m[mask]"
   ]
  },
  {
   "cell_type": "markdown",
   "id": "94b50bb7",
   "metadata": {},
   "source": [
    "and: &\n",
    "or: |\n",
    "not: ~"
   ]
  },
  {
   "cell_type": "markdown",
   "id": "88534a64",
   "metadata": {},
   "source": [
    "Выделите все строки, в которых ответов Да больше, чем ответов Нет. Для результирующей матрицы найдите сумму по столбцам (сумму каждого столбца)\n"
   ]
  },
  {
   "cell_type": "code",
   "execution_count": 60,
   "id": "68de1590",
   "metadata": {},
   "outputs": [
    {
     "data": {
      "text/plain": [
       "array([[10,  3, 13],\n",
       "       [17,  8,  0],\n",
       "       [15,  7,  3],\n",
       "       [ 2, 19,  1],\n",
       "       [20,  0,  0],\n",
       "       [18,  2,  0],\n",
       "       [ 7, 11,  0]])"
      ]
     },
     "execution_count": 60,
     "metadata": {},
     "output_type": "execute_result"
    }
   ],
   "source": [
    "new_data\n",
    "# Да Нет Воздерживаюсь"
   ]
  },
  {
   "cell_type": "code",
   "execution_count": 65,
   "id": "22e3093c",
   "metadata": {},
   "outputs": [
    {
     "name": "stdout",
     "output_type": "stream",
     "text": [
      "[[10  3 13]\n",
      " [17  8  0]\n",
      " [15  7  3]\n",
      " [20  0  0]\n",
      " [18  2  0]]\n"
     ]
    },
    {
     "data": {
      "text/plain": [
       "array([80, 20, 16])"
      ]
     },
     "execution_count": 65,
     "metadata": {},
     "output_type": "execute_result"
    }
   ],
   "source": [
    "yes = new_data[:, 0]\n",
    "no = new_data[:, 1]\n",
    "mask = yes > no\n",
    "result = new_data[mask]\n",
    "print(result)\n",
    "result.sum(axis=0)"
   ]
  },
  {
   "cell_type": "markdown",
   "id": "4e26ab2b",
   "metadata": {},
   "source": [
    "Сгенерируйте случайную матрицу размера 4 на 5. Выделите все столбцы, в которых среднее больше 0.5.\n"
   ]
  },
  {
   "cell_type": "code",
   "execution_count": 70,
   "id": "0912850b",
   "metadata": {},
   "outputs": [
    {
     "name": "stdout",
     "output_type": "stream",
     "text": [
      "[ True  True  True False False]\n"
     ]
    },
    {
     "data": {
      "text/plain": [
       "array([[0.07474583, 0.14176763, 0.32220562],\n",
       "       [0.71330267, 0.52478906, 0.68760646],\n",
       "       [0.50150053, 0.77128297, 0.11257152],\n",
       "       [0.53999949, 0.23035366, 0.78184906]])"
      ]
     },
     "execution_count": 70,
     "metadata": {},
     "output_type": "execute_result"
    }
   ],
   "source": [
    "mask = np.mean(m, axis=0) > 0.4\n",
    "print(mask)\n",
    "m[:, mask]"
   ]
  },
  {
   "cell_type": "markdown",
   "id": "e7ce975d",
   "metadata": {},
   "source": [
    "У вас есть вектор x = np.array([8, 4, 1, 15, 7]). Вычислите вектор, у которого в позиции i стоит среднее всех элементов x до i включительно. Можно пользоваться функцией np.cumsum(x) - она считает суммы до i включительно"
   ]
  },
  {
   "cell_type": "code",
   "execution_count": 72,
   "id": "08573b65",
   "metadata": {},
   "outputs": [
    {
     "data": {
      "text/plain": [
       "array([ 8,  4,  1, 15,  7])"
      ]
     },
     "execution_count": 72,
     "metadata": {},
     "output_type": "execute_result"
    }
   ],
   "source": [
    "x = np.array([8, 4, 1, 15, 7])\n",
    "x"
   ]
  },
  {
   "cell_type": "code",
   "execution_count": 73,
   "id": "30588219",
   "metadata": {},
   "outputs": [
    {
     "data": {
      "text/plain": [
       "array([ 8, 12, 13, 28, 35])"
      ]
     },
     "execution_count": 73,
     "metadata": {},
     "output_type": "execute_result"
    }
   ],
   "source": [
    "np.cumsum(x)"
   ]
  },
  {
   "cell_type": "code",
   "execution_count": 74,
   "id": "5397a4c3",
   "metadata": {},
   "outputs": [
    {
     "data": {
      "text/plain": [
       "array([1, 2, 3, 4, 5])"
      ]
     },
     "execution_count": 74,
     "metadata": {},
     "output_type": "execute_result"
    }
   ],
   "source": [
    "np.arange(1, x.shape[0]+1)"
   ]
  },
  {
   "cell_type": "code",
   "execution_count": 75,
   "id": "e7a49d7b",
   "metadata": {},
   "outputs": [
    {
     "data": {
      "text/plain": [
       "array([8.        , 6.        , 4.33333333, 7.        , 7.        ])"
      ]
     },
     "execution_count": 75,
     "metadata": {},
     "output_type": "execute_result"
    }
   ],
   "source": [
    "np.cumsum(x) / np.arange(1, x.shape[0]+1)"
   ]
  },
  {
   "cell_type": "code",
   "execution_count": 76,
   "id": "520a448b",
   "metadata": {},
   "outputs": [
    {
     "data": {
      "text/plain": [
       "array([0, 1, 2, 3, 4])"
      ]
     },
     "execution_count": 76,
     "metadata": {},
     "output_type": "execute_result"
    }
   ],
   "source": [
    "np.arange(5)"
   ]
  },
  {
   "cell_type": "code",
   "execution_count": 78,
   "id": "8c9b5351",
   "metadata": {},
   "outputs": [
    {
     "data": {
      "text/plain": [
       "array([1, 2, 3, 4, 5])"
      ]
     },
     "execution_count": 78,
     "metadata": {},
     "output_type": "execute_result"
    }
   ],
   "source": [
    "np.arange(1, 5+1)"
   ]
  },
  {
   "cell_type": "markdown",
   "id": "20eedb05",
   "metadata": {},
   "source": [
    "### Сортировка"
   ]
  },
  {
   "cell_type": "code",
   "execution_count": 80,
   "id": "fb9ef931",
   "metadata": {},
   "outputs": [
    {
     "data": {
      "text/plain": [
       "array([[0.07474583, 0.14176763, 0.11257152, 0.00687321, 0.00551102],\n",
       "       [0.50150053, 0.23035366, 0.32220562, 0.25945607, 0.11833905],\n",
       "       [0.53999949, 0.52478906, 0.68760646, 0.37992591, 0.33524837],\n",
       "       [0.71330267, 0.77128297, 0.78184906, 0.8102482 , 0.55526426]])"
      ]
     },
     "execution_count": 80,
     "metadata": {},
     "output_type": "execute_result"
    }
   ],
   "source": [
    "np.sort(m, axis=0)"
   ]
  },
  {
   "cell_type": "code",
   "execution_count": 81,
   "id": "f1ff54dd",
   "metadata": {},
   "outputs": [
    {
     "data": {
      "text/plain": [
       "array([ 1,  4,  7,  8, 15])"
      ]
     },
     "execution_count": 81,
     "metadata": {},
     "output_type": "execute_result"
    }
   ],
   "source": [
    "np.sort(x)"
   ]
  },
  {
   "cell_type": "code",
   "execution_count": 82,
   "id": "fb5b4ef1",
   "metadata": {},
   "outputs": [
    {
     "data": {
      "text/plain": [
       "array([2, 1, 4, 0, 3])"
      ]
     },
     "execution_count": 82,
     "metadata": {},
     "output_type": "execute_result"
    }
   ],
   "source": [
    "np.argsort(x)"
   ]
  },
  {
   "cell_type": "markdown",
   "id": "81cf02b9",
   "metadata": {},
   "source": [
    "### Броадкастинг и мнимые оси"
   ]
  },
  {
   "cell_type": "code",
   "execution_count": 79,
   "id": "c5331568",
   "metadata": {},
   "outputs": [
    {
     "data": {
      "text/plain": [
       "array([[0.07474583, 0.14176763, 0.32220562, 0.37992591, 0.55526426],\n",
       "       [0.71330267, 0.52478906, 0.68760646, 0.25945607, 0.00551102],\n",
       "       [0.50150053, 0.77128297, 0.11257152, 0.8102482 , 0.33524837],\n",
       "       [0.53999949, 0.23035366, 0.78184906, 0.00687321, 0.11833905]])"
      ]
     },
     "execution_count": 79,
     "metadata": {},
     "output_type": "execute_result"
    }
   ],
   "source": [
    "m"
   ]
  },
  {
   "cell_type": "code",
   "execution_count": 84,
   "id": "df07dd99",
   "metadata": {},
   "outputs": [
    {
     "data": {
      "text/plain": [
       "array([[0.2, 0.2, 0.2, 0.2, 0.2],\n",
       "       [0.2, 0.2, 0.2, 0.2, 0.2],\n",
       "       [0.2, 0.2, 0.2, 0.2, 0.2],\n",
       "       [0.2, 0.2, 0.2, 0.2, 0.2]])"
      ]
     },
     "execution_count": 84,
     "metadata": {},
     "output_type": "execute_result"
    }
   ],
   "source": [
    "k = np.ones((4, 5)) * 0.2\n",
    "k"
   ]
  },
  {
   "cell_type": "code",
   "execution_count": 86,
   "id": "2bdaefe9",
   "metadata": {},
   "outputs": [
    {
     "data": {
      "text/plain": [
       "array([[0.37372915, 0.70883816, 1.61102808, 1.89962955, 2.77632132],\n",
       "       [3.56651333, 2.62394529, 3.43803231, 1.29728033, 0.02755511],\n",
       "       [2.50750263, 3.85641483, 0.56285762, 4.05124098, 1.67624186],\n",
       "       [2.69999743, 1.1517683 , 3.90924529, 0.03436607, 0.59169524]])"
      ]
     },
     "execution_count": 86,
     "metadata": {},
     "output_type": "execute_result"
    }
   ],
   "source": [
    "m / k"
   ]
  },
  {
   "cell_type": "code",
   "execution_count": 87,
   "id": "30fd743f",
   "metadata": {},
   "outputs": [
    {
     "data": {
      "text/plain": [
       "array([[0.07474583, 0.14176763, 0.32220562, 0.37992591, 0.55526426],\n",
       "       [0.71330267, 0.52478906, 0.68760646, 0.25945607, 0.00551102],\n",
       "       [0.50150053, 0.77128297, 0.11257152, 0.8102482 , 0.33524837],\n",
       "       [0.53999949, 0.23035366, 0.78184906, 0.00687321, 0.11833905]])"
      ]
     },
     "execution_count": 87,
     "metadata": {},
     "output_type": "execute_result"
    }
   ],
   "source": [
    "m"
   ]
  },
  {
   "cell_type": "code",
   "execution_count": 94,
   "id": "d2277955",
   "metadata": {},
   "outputs": [
    {
     "data": {
      "text/plain": [
       "array([0, 1, 2, 3, 4])"
      ]
     },
     "execution_count": 94,
     "metadata": {},
     "output_type": "execute_result"
    }
   ],
   "source": [
    "k = np.arange(5)\n",
    "k"
   ]
  },
  {
   "cell_type": "code",
   "execution_count": 96,
   "id": "e1fb4807",
   "metadata": {},
   "outputs": [
    {
     "data": {
      "text/plain": [
       "(5,)"
      ]
     },
     "execution_count": 96,
     "metadata": {},
     "output_type": "execute_result"
    }
   ],
   "source": [
    "k.shape"
   ]
  },
  {
   "cell_type": "code",
   "execution_count": 99,
   "id": "df24e770",
   "metadata": {},
   "outputs": [
    {
     "data": {
      "text/plain": [
       "(1, 5)"
      ]
     },
     "execution_count": 99,
     "metadata": {},
     "output_type": "execute_result"
    }
   ],
   "source": [
    "k[np.newaxis, :].shape"
   ]
  },
  {
   "cell_type": "code",
   "execution_count": 97,
   "id": "910442a9",
   "metadata": {},
   "outputs": [
    {
     "data": {
      "text/plain": [
       "array([[0.        , 0.14176763, 0.64441123, 1.13977773, 2.22105705],\n",
       "       [0.        , 0.52478906, 1.37521293, 0.7783682 , 0.02204409],\n",
       "       [0.        , 0.77128297, 0.22514305, 2.43074459, 1.34099349],\n",
       "       [0.        , 0.23035366, 1.56369812, 0.02061964, 0.4733562 ]])"
      ]
     },
     "execution_count": 97,
     "metadata": {},
     "output_type": "execute_result"
    }
   ],
   "source": [
    "# (4, 5) (1, 5)\n",
    "m * k[np.newaxis, :]"
   ]
  },
  {
   "cell_type": "code",
   "execution_count": 103,
   "id": "c1bae022",
   "metadata": {},
   "outputs": [
    {
     "data": {
      "text/plain": [
       "(4, 1)"
      ]
     },
     "execution_count": 103,
     "metadata": {},
     "output_type": "execute_result"
    }
   ],
   "source": [
    "k = np.arange(4)\n",
    "k[:, np.newaxis].shape"
   ]
  },
  {
   "cell_type": "code",
   "execution_count": 102,
   "id": "706143f1",
   "metadata": {},
   "outputs": [
    {
     "data": {
      "text/plain": [
       "array([[0.        , 0.        , 0.        , 0.        , 0.        ],\n",
       "       [0.71330267, 0.52478906, 0.68760646, 0.25945607, 0.00551102],\n",
       "       [1.00300105, 1.54256593, 0.22514305, 1.62049639, 0.67049674],\n",
       "       [1.61999846, 0.69106098, 2.34554717, 0.02061964, 0.35501715]])"
      ]
     },
     "execution_count": 102,
     "metadata": {},
     "output_type": "execute_result"
    }
   ],
   "source": [
    "# (4, 5) (4, 1)\n",
    "m * k[:, np.newaxis]"
   ]
  },
  {
   "cell_type": "code",
   "execution_count": 104,
   "id": "530bca94",
   "metadata": {},
   "outputs": [
    {
     "data": {
      "text/plain": [
       "array([[0.        , 0.        , 0.        , 0.        , 0.        ],\n",
       "       [0.71330267, 0.52478906, 0.68760646, 0.25945607, 0.00551102],\n",
       "       [1.00300105, 1.54256593, 0.22514305, 1.62049639, 0.67049674],\n",
       "       [1.61999846, 0.69106098, 2.34554717, 0.02061964, 0.35501715]])"
      ]
     },
     "execution_count": 104,
     "metadata": {},
     "output_type": "execute_result"
    }
   ],
   "source": [
    "m * k.reshape(-1, 1)"
   ]
  },
  {
   "cell_type": "markdown",
   "id": "d038434b",
   "metadata": {},
   "source": [
    "В нашей матрице записано _число_ голосов Да, Нет, Воздержался на каждый вопрос. Посчитайте _долю_ голосов на каждый вопрос. Для этого надо найти сумму матрицы по строкам и разделить каждую строку на ее сумму."
   ]
  },
  {
   "cell_type": "code",
   "execution_count": 105,
   "id": "6e1573f5",
   "metadata": {},
   "outputs": [
    {
     "data": {
      "text/plain": [
       "array([[10,  3, 13],\n",
       "       [17,  8,  0],\n",
       "       [15,  7,  3],\n",
       "       [ 2, 19,  1],\n",
       "       [20,  0,  0],\n",
       "       [18,  2,  0],\n",
       "       [ 7, 11,  0]])"
      ]
     },
     "execution_count": 105,
     "metadata": {},
     "output_type": "execute_result"
    }
   ],
   "source": [
    "new_data"
   ]
  },
  {
   "cell_type": "code",
   "execution_count": 109,
   "id": "257cbc06",
   "metadata": {},
   "outputs": [
    {
     "data": {
      "text/plain": [
       "array([26, 25, 25, 22, 20, 20, 18])"
      ]
     },
     "execution_count": 109,
     "metadata": {},
     "output_type": "execute_result"
    }
   ],
   "source": [
    "sums = new_data.sum(axis=1)\n",
    "sums"
   ]
  },
  {
   "cell_type": "code",
   "execution_count": 110,
   "id": "7a9a3b61",
   "metadata": {},
   "outputs": [
    {
     "data": {
      "text/plain": [
       "array([[0.38461538, 0.11538462, 0.5       ],\n",
       "       [0.68      , 0.32      , 0.        ],\n",
       "       [0.6       , 0.28      , 0.12      ],\n",
       "       [0.09090909, 0.86363636, 0.04545455],\n",
       "       [1.        , 0.        , 0.        ],\n",
       "       [0.9       , 0.1       , 0.        ],\n",
       "       [0.38888889, 0.61111111, 0.        ]])"
      ]
     },
     "execution_count": 110,
     "metadata": {},
     "output_type": "execute_result"
    }
   ],
   "source": [
    "# (7, 3) (7, 1)\n",
    "new_data / sums[:, np.newaxis]"
   ]
  },
  {
   "cell_type": "code",
   "execution_count": 111,
   "id": "c44fc7d1",
   "metadata": {},
   "outputs": [
    {
     "data": {
      "text/plain": [
       "array([[0.38461538, 0.11538462, 0.5       ],\n",
       "       [0.68      , 0.32      , 0.        ],\n",
       "       [0.6       , 0.28      , 0.12      ],\n",
       "       [0.09090909, 0.86363636, 0.04545455],\n",
       "       [1.        , 0.        , 0.        ],\n",
       "       [0.9       , 0.1       , 0.        ],\n",
       "       [0.38888889, 0.61111111, 0.        ]])"
      ]
     },
     "execution_count": 111,
     "metadata": {},
     "output_type": "execute_result"
    }
   ],
   "source": [
    "# (7, 3) (7, 1)\n",
    "new_data / sums[:, None]"
   ]
  },
  {
   "cell_type": "code",
   "execution_count": 108,
   "id": "34b4cf06",
   "metadata": {},
   "outputs": [
    {
     "data": {
      "text/plain": [
       "array([[0.1, 0.1, 0.3, 0.4, 0.6],\n",
       "       [0.7, 0.5, 0.7, 0.3, 0. ],\n",
       "       [0.5, 0.8, 0.1, 0.8, 0.3],\n",
       "       [0.5, 0.2, 0.8, 0. , 0.1]])"
      ]
     },
     "execution_count": 108,
     "metadata": {},
     "output_type": "execute_result"
    }
   ],
   "source": [
    "# ответ на вопрос про округление\n",
    "np.round(m, decimals=1)"
   ]
  },
  {
   "cell_type": "markdown",
   "id": "d72b3cb9",
   "metadata": {},
   "source": [
    "Постройте таблицу умножения от 10 до 20. Получится матрица размера 11x11, у которой в каждой строке стоит произведение i * j, где оба индекса от 10 до 20"
   ]
  },
  {
   "cell_type": "code",
   "execution_count": 113,
   "id": "83d1a034",
   "metadata": {},
   "outputs": [
    {
     "data": {
      "text/plain": [
       "(11,)"
      ]
     },
     "execution_count": 113,
     "metadata": {},
     "output_type": "execute_result"
    }
   ],
   "source": [
    "numbers = np.arange(10, 21)\n",
    "numbers\n",
    "numbers.shape"
   ]
  },
  {
   "cell_type": "code",
   "execution_count": 114,
   "id": "1b17bcc5",
   "metadata": {},
   "outputs": [
    {
     "data": {
      "text/plain": [
       "array([[100, 110, 120, 130, 140, 150, 160, 170, 180, 190, 200],\n",
       "       [110, 121, 132, 143, 154, 165, 176, 187, 198, 209, 220],\n",
       "       [120, 132, 144, 156, 168, 180, 192, 204, 216, 228, 240],\n",
       "       [130, 143, 156, 169, 182, 195, 208, 221, 234, 247, 260],\n",
       "       [140, 154, 168, 182, 196, 210, 224, 238, 252, 266, 280],\n",
       "       [150, 165, 180, 195, 210, 225, 240, 255, 270, 285, 300],\n",
       "       [160, 176, 192, 208, 224, 240, 256, 272, 288, 304, 320],\n",
       "       [170, 187, 204, 221, 238, 255, 272, 289, 306, 323, 340],\n",
       "       [180, 198, 216, 234, 252, 270, 288, 306, 324, 342, 360],\n",
       "       [190, 209, 228, 247, 266, 285, 304, 323, 342, 361, 380],\n",
       "       [200, 220, 240, 260, 280, 300, 320, 340, 360, 380, 400]])"
      ]
     },
     "execution_count": 114,
     "metadata": {},
     "output_type": "execute_result"
    }
   ],
   "source": [
    "# (11, 1) x (1, 11) - каждый с каждым\n",
    "numbers[:, None] * numbers[None, :]"
   ]
  },
  {
   "cell_type": "markdown",
   "id": "678a9062",
   "metadata": {},
   "source": [
    "### Matplotlib"
   ]
  },
  {
   "cell_type": "code",
   "execution_count": 115,
   "id": "1e162308",
   "metadata": {},
   "outputs": [],
   "source": [
    "from matplotlib import pyplot as plt\n",
    "#import seaborn\n",
    "%matplotlib inline"
   ]
  },
  {
   "cell_type": "code",
   "execution_count": 116,
   "id": "c1304334",
   "metadata": {},
   "outputs": [],
   "source": [
    "xs = np.arange(10)\n",
    "ys = xs ** 2"
   ]
  },
  {
   "cell_type": "code",
   "execution_count": 117,
   "id": "61018de6",
   "metadata": {},
   "outputs": [
    {
     "data": {
      "text/plain": [
       "array([0, 1, 2, 3, 4, 5, 6, 7, 8, 9])"
      ]
     },
     "execution_count": 117,
     "metadata": {},
     "output_type": "execute_result"
    }
   ],
   "source": [
    "xs"
   ]
  },
  {
   "cell_type": "code",
   "execution_count": 118,
   "id": "28551b62",
   "metadata": {},
   "outputs": [
    {
     "data": {
      "text/plain": [
       "array([ 0,  1,  4,  9, 16, 25, 36, 49, 64, 81])"
      ]
     },
     "execution_count": 118,
     "metadata": {},
     "output_type": "execute_result"
    }
   ],
   "source": [
    "ys"
   ]
  },
  {
   "cell_type": "code",
   "execution_count": 119,
   "id": "554e6235",
   "metadata": {},
   "outputs": [
    {
     "data": {
      "text/plain": [
       "[<matplotlib.lines.Line2D at 0x7f9968487e80>]"
      ]
     },
     "execution_count": 119,
     "metadata": {},
     "output_type": "execute_result"
    },
    {
     "data": {
      "image/png": "[encoded data removed]",
      "text/plain": [
       "<Figure size 432x288 with 1 Axes>"
      ]
     },
     "metadata": {
      "needs_background": "light"
     },
     "output_type": "display_data"
    }
   ],
   "source": [
    "plt.plot(xs, ys)"
   ]
  },
  {
   "cell_type": "code",
   "execution_count": 120,
   "id": "fdb2d786",
   "metadata": {},
   "outputs": [],
   "source": [
    "xs = np.linspace(-10, 10, 1000)\n",
    "ys = xs ** 2"
   ]
  },
  {
   "cell_type": "code",
   "execution_count": 121,
   "id": "e453bc2d",
   "metadata": {},
   "outputs": [
    {
     "data": {
      "text/plain": [
       "array([-10.        ,  -9.97997998,  -9.95995996,  -9.93993994,\n",
       "        -9.91991992,  -9.8998999 ,  -9.87987988,  -9.85985986,\n",
       "        -9.83983984,  -9.81981982,  -9.7997998 ,  -9.77977978,\n",
       "        -9.75975976,  -9.73973974,  -9.71971972,  -9.6996997 ,\n",
       "        -9.67967968,  -9.65965966,  -9.63963964,  -9.61961962,\n",
       "        -9.5995996 ,  -9.57957958,  -9.55955956,  -9.53953954,\n",
       "        -9.51951952,  -9.4994995 ,  -9.47947948,  -9.45945946,\n",
       "        -9.43943944,  -9.41941942,  -9.3993994 ,  -9.37937938,\n",
       "        -9.35935936,  -9.33933934,  -9.31931932,  -9.2992993 ,\n",
       "        -9.27927928,  -9.25925926,  -9.23923924,  -9.21921922,\n",
       "        -9.1991992 ,  -9.17917918,  -9.15915916,  -9.13913914,\n",
       "        -9.11911912,  -9.0990991 ,  -9.07907908,  -9.05905906,\n",
       "        -9.03903904,  -9.01901902,  -8.998999  ,  -8.97897898,\n",
       "        -8.95895896,  -8.93893894,  -8.91891892,  -8.8988989 ,\n",
       "        -8.87887888,  -8.85885886,  -8.83883884,  -8.81881882,\n",
       "        -8.7987988 ,  -8.77877878,  -8.75875876,  -8.73873874,\n",
       "        -8.71871872,  -8.6986987 ,  -8.67867868,  -8.65865866,\n",
       "        -8.63863864,  -8.61861862,  -8.5985986 ,  -8.57857858,\n",
       "        -8.55855856,  -8.53853854,  -8.51851852,  -8.4984985 ,\n",
       "        -8.47847848,  -8.45845846,  -8.43843844,  -8.41841842,\n",
       "        -8.3983984 ,  -8.37837838,  -8.35835836,  -8.33833834,\n",
       "        -8.31831832,  -8.2982983 ,  -8.27827828,  -8.25825826,\n",
       "        -8.23823824,  -8.21821822,  -8.1981982 ,  -8.17817818,\n",
       "        -8.15815816,  -8.13813814,  -8.11811812,  -8.0980981 ,\n",
       "        -8.07807808,  -8.05805806,  -8.03803804,  -8.01801802,\n",
       "        -7.997998  ,  -7.97797798,  -7.95795796,  -7.93793794,\n",
       "        -7.91791792,  -7.8978979 ,  -7.87787788,  -7.85785786,\n",
       "        -7.83783784,  -7.81781782,  -7.7977978 ,  -7.77777778,\n",
       "        -7.75775776,  -7.73773774,  -7.71771772,  -7.6976977 ,\n",
       "        -7.67767768,  -7.65765766,  -7.63763764,  -7.61761762,\n",
       "        -7.5975976 ,  -7.57757758,  -7.55755756,  -7.53753754,\n",
       "        -7.51751752,  -7.4974975 ,  -7.47747748,  -7.45745746,\n",
       "        -7.43743744,  -7.41741742,  -7.3973974 ,  -7.37737738,\n",
       "        -7.35735736,  -7.33733734,  -7.31731732,  -7.2972973 ,\n",
       "        -7.27727728,  -7.25725726,  -7.23723724,  -7.21721722,\n",
       "        -7.1971972 ,  -7.17717718,  -7.15715716,  -7.13713714,\n",
       "        -7.11711712,  -7.0970971 ,  -7.07707708,  -7.05705706,\n",
       "        -7.03703704,  -7.01701702,  -6.996997  ,  -6.97697698,\n",
       "        -6.95695696,  -6.93693694,  -6.91691692,  -6.8968969 ,\n",
       "        -6.87687688,  -6.85685686,  -6.83683684,  -6.81681682,\n",
       "        -6.7967968 ,  -6.77677678,  -6.75675676,  -6.73673674,\n",
       "        -6.71671672,  -6.6966967 ,  -6.67667668,  -6.65665666,\n",
       "        -6.63663664,  -6.61661662,  -6.5965966 ,  -6.57657658,\n",
       "        -6.55655656,  -6.53653654,  -6.51651652,  -6.4964965 ,\n",
       "        -6.47647648,  -6.45645646,  -6.43643644,  -6.41641642,\n",
       "        -6.3963964 ,  -6.37637638,  -6.35635636,  -6.33633634,\n",
       "        -6.31631632,  -6.2962963 ,  -6.27627628,  -6.25625626,\n",
       "        -6.23623624,  -6.21621622,  -6.1961962 ,  -6.17617618,\n",
       "        -6.15615616,  -6.13613614,  -6.11611612,  -6.0960961 ,\n",
       "        -6.07607608,  -6.05605606,  -6.03603604,  -6.01601602,\n",
       "        -5.995996  ,  -5.97597598,  -5.95595596,  -5.93593594,\n",
       "        -5.91591592,  -5.8958959 ,  -5.87587588,  -5.85585586,\n",
       "        -5.83583584,  -5.81581582,  -5.7957958 ,  -5.77577578,\n",
       "        -5.75575576,  -5.73573574,  -5.71571572,  -5.6956957 ,\n",
       "        -5.67567568,  -5.65565566,  -5.63563564,  -5.61561562,\n",
       "        -5.5955956 ,  -5.57557558,  -5.55555556,  -5.53553554,\n",
       "        -5.51551552,  -5.4954955 ,  -5.47547548,  -5.45545546,\n",
       "        -5.43543544,  -5.41541542,  -5.3953954 ,  -5.37537538,\n",
       "        -5.35535536,  -5.33533534,  -5.31531532,  -5.2952953 ,\n",
       "        -5.27527528,  -5.25525526,  -5.23523524,  -5.21521522,\n",
       "        -5.1951952 ,  -5.17517518,  -5.15515516,  -5.13513514,\n",
       "        -5.11511512,  -5.0950951 ,  -5.07507508,  -5.05505506,\n",
       "        -5.03503504,  -5.01501502,  -4.99499499,  -4.97497497,\n",
       "        -4.95495495,  -4.93493493,  -4.91491491,  -4.89489489,\n",
       "        -4.87487487,  -4.85485485,  -4.83483483,  -4.81481481,\n",
       "        -4.79479479,  -4.77477477,  -4.75475475,  -4.73473473,\n",
       "        -4.71471471,  -4.69469469,  -4.67467467,  -4.65465465,\n",
       "        -4.63463463,  -4.61461461,  -4.59459459,  -4.57457457,\n",
       "        -4.55455455,  -4.53453453,  -4.51451451,  -4.49449449,\n",
       "        -4.47447447,  -4.45445445,  -4.43443443,  -4.41441441,\n",
       "        -4.39439439,  -4.37437437,  -4.35435435,  -4.33433433,\n",
       "        -4.31431431,  -4.29429429,  -4.27427427,  -4.25425425,\n",
       "        -4.23423423,  -4.21421421,  -4.19419419,  -4.17417417,\n",
       "        -4.15415415,  -4.13413413,  -4.11411411,  -4.09409409,\n",
       "        -4.07407407,  -4.05405405,  -4.03403403,  -4.01401401,\n",
       "        -3.99399399,  -3.97397397,  -3.95395395,  -3.93393393,\n",
       "        -3.91391391,  -3.89389389,  -3.87387387,  -3.85385385,\n",
       "        -3.83383383,  -3.81381381,  -3.79379379,  -3.77377377,\n",
       "        -3.75375375,  -3.73373373,  -3.71371371,  -3.69369369,\n",
       "        -3.67367367,  -3.65365365,  -3.63363363,  -3.61361361,\n",
       "        -3.59359359,  -3.57357357,  -3.55355355,  -3.53353353,\n",
       "        -3.51351351,  -3.49349349,  -3.47347347,  -3.45345345,\n",
       "        -3.43343343,  -3.41341341,  -3.39339339,  -3.37337337,\n",
       "        -3.35335335,  -3.33333333,  -3.31331331,  -3.29329329,\n",
       "        -3.27327327,  -3.25325325,  -3.23323323,  -3.21321321,\n",
       "        -3.19319319,  -3.17317317,  -3.15315315,  -3.13313313,\n",
       "        -3.11311311,  -3.09309309,  -3.07307307,  -3.05305305,\n",
       "        -3.03303303,  -3.01301301,  -2.99299299,  -2.97297297,\n",
       "        -2.95295295,  -2.93293293,  -2.91291291,  -2.89289289,\n",
       "        -2.87287287,  -2.85285285,  -2.83283283,  -2.81281281,\n",
       "        -2.79279279,  -2.77277277,  -2.75275275,  -2.73273273,\n",
       "        -2.71271271,  -2.69269269,  -2.67267267,  -2.65265265,\n",
       "        -2.63263263,  -2.61261261,  -2.59259259,  -2.57257257,\n",
       "        -2.55255255,  -2.53253253,  -2.51251251,  -2.49249249,\n",
       "        -2.47247247,  -2.45245245,  -2.43243243,  -2.41241241,\n",
       "        -2.39239239,  -2.37237237,  -2.35235235,  -2.33233233,\n",
       "        -2.31231231,  -2.29229229,  -2.27227227,  -2.25225225,\n",
       "        -2.23223223,  -2.21221221,  -2.19219219,  -2.17217217,\n",
       "        -2.15215215,  -2.13213213,  -2.11211211,  -2.09209209,\n",
       "        -2.07207207,  -2.05205205,  -2.03203203,  -2.01201201,\n",
       "        -1.99199199,  -1.97197197,  -1.95195195,  -1.93193193,\n",
       "        -1.91191191,  -1.89189189,  -1.87187187,  -1.85185185,\n",
       "        -1.83183183,  -1.81181181,  -1.79179179,  -1.77177177,\n",
       "        -1.75175175,  -1.73173173,  -1.71171171,  -1.69169169,\n",
       "        -1.67167167,  -1.65165165,  -1.63163163,  -1.61161161,\n",
       "        -1.59159159,  -1.57157157,  -1.55155155,  -1.53153153,\n",
       "        -1.51151151,  -1.49149149,  -1.47147147,  -1.45145145,\n",
       "        -1.43143143,  -1.41141141,  -1.39139139,  -1.37137137,\n",
       "        -1.35135135,  -1.33133133,  -1.31131131,  -1.29129129,\n",
       "        -1.27127127,  -1.25125125,  -1.23123123,  -1.21121121,\n",
       "        -1.19119119,  -1.17117117,  -1.15115115,  -1.13113113,\n",
       "        -1.11111111,  -1.09109109,  -1.07107107,  -1.05105105,\n",
       "        -1.03103103,  -1.01101101,  -0.99099099,  -0.97097097,\n",
       "        -0.95095095,  -0.93093093,  -0.91091091,  -0.89089089,\n",
       "        -0.87087087,  -0.85085085,  -0.83083083,  -0.81081081,\n",
       "        -0.79079079,  -0.77077077,  -0.75075075,  -0.73073073,\n",
       "        -0.71071071,  -0.69069069,  -0.67067067,  -0.65065065,\n",
       "        -0.63063063,  -0.61061061,  -0.59059059,  -0.57057057,\n",
       "        -0.55055055,  -0.53053053,  -0.51051051,  -0.49049049,\n",
       "        -0.47047047,  -0.45045045,  -0.43043043,  -0.41041041,\n",
       "        -0.39039039,  -0.37037037,  -0.35035035,  -0.33033033,\n",
       "        -0.31031031,  -0.29029029,  -0.27027027,  -0.25025025,\n",
       "        -0.23023023,  -0.21021021,  -0.19019019,  -0.17017017,\n",
       "        -0.15015015,  -0.13013013,  -0.11011011,  -0.09009009,\n",
       "        -0.07007007,  -0.05005005,  -0.03003003,  -0.01001001,\n",
       "         0.01001001,   0.03003003,   0.05005005,   0.07007007,\n",
       "         0.09009009,   0.11011011,   0.13013013,   0.15015015,\n",
       "         0.17017017,   0.19019019,   0.21021021,   0.23023023,\n",
       "         0.25025025,   0.27027027,   0.29029029,   0.31031031,\n",
       "         0.33033033,   0.35035035,   0.37037037,   0.39039039,\n",
       "         0.41041041,   0.43043043,   0.45045045,   0.47047047,\n",
       "         0.49049049,   0.51051051,   0.53053053,   0.55055055,\n",
       "         0.57057057,   0.59059059,   0.61061061,   0.63063063,\n",
       "         0.65065065,   0.67067067,   0.69069069,   0.71071071,\n",
       "         0.73073073,   0.75075075,   0.77077077,   0.79079079,\n",
       "         0.81081081,   0.83083083,   0.85085085,   0.87087087,\n",
       "         0.89089089,   0.91091091,   0.93093093,   0.95095095,\n",
       "         0.97097097,   0.99099099,   1.01101101,   1.03103103,\n",
       "         1.05105105,   1.07107107,   1.09109109,   1.11111111,\n",
       "         1.13113113,   1.15115115,   1.17117117,   1.19119119,\n",
       "         1.21121121,   1.23123123,   1.25125125,   1.27127127,\n",
       "         1.29129129,   1.31131131,   1.33133133,   1.35135135,\n",
       "         1.37137137,   1.39139139,   1.41141141,   1.43143143,\n",
       "         1.45145145,   1.47147147,   1.49149149,   1.51151151,\n",
       "         1.53153153,   1.55155155,   1.57157157,   1.59159159,\n",
       "         1.61161161,   1.63163163,   1.65165165,   1.67167167,\n",
       "         1.69169169,   1.71171171,   1.73173173,   1.75175175,\n",
       "         1.77177177,   1.79179179,   1.81181181,   1.83183183,\n",
       "         1.85185185,   1.87187187,   1.89189189,   1.91191191,\n",
       "         1.93193193,   1.95195195,   1.97197197,   1.99199199,\n",
       "         2.01201201,   2.03203203,   2.05205205,   2.07207207,\n",
       "         2.09209209,   2.11211211,   2.13213213,   2.15215215,\n",
       "         2.17217217,   2.19219219,   2.21221221,   2.23223223,\n",
       "         2.25225225,   2.27227227,   2.29229229,   2.31231231,\n",
       "         2.33233233,   2.35235235,   2.37237237,   2.39239239,\n",
       "         2.41241241,   2.43243243,   2.45245245,   2.47247247,\n",
       "         2.49249249,   2.51251251,   2.53253253,   2.55255255,\n",
       "         2.57257257,   2.59259259,   2.61261261,   2.63263263,\n",
       "         2.65265265,   2.67267267,   2.69269269,   2.71271271,\n",
       "         2.73273273,   2.75275275,   2.77277277,   2.79279279,\n",
       "         2.81281281,   2.83283283,   2.85285285,   2.87287287,\n",
       "         2.89289289,   2.91291291,   2.93293293,   2.95295295,\n",
       "         2.97297297,   2.99299299,   3.01301301,   3.03303303,\n",
       "         3.05305305,   3.07307307,   3.09309309,   3.11311311,\n",
       "         3.13313313,   3.15315315,   3.17317317,   3.19319319,\n",
       "         3.21321321,   3.23323323,   3.25325325,   3.27327327,\n",
       "         3.29329329,   3.31331331,   3.33333333,   3.35335335,\n",
       "         3.37337337,   3.39339339,   3.41341341,   3.43343343,\n",
       "         3.45345345,   3.47347347,   3.49349349,   3.51351351,\n",
       "         3.53353353,   3.55355355,   3.57357357,   3.59359359,\n",
       "         3.61361361,   3.63363363,   3.65365365,   3.67367367,\n",
       "         3.69369369,   3.71371371,   3.73373373,   3.75375375,\n",
       "         3.77377377,   3.79379379,   3.81381381,   3.83383383,\n",
       "         3.85385385,   3.87387387,   3.89389389,   3.91391391,\n",
       "         3.93393393,   3.95395395,   3.97397397,   3.99399399,\n",
       "         4.01401401,   4.03403403,   4.05405405,   4.07407407,\n",
       "         4.09409409,   4.11411411,   4.13413413,   4.15415415,\n",
       "         4.17417417,   4.19419419,   4.21421421,   4.23423423,\n",
       "         4.25425425,   4.27427427,   4.29429429,   4.31431431,\n",
       "         4.33433433,   4.35435435,   4.37437437,   4.39439439,\n",
       "         4.41441441,   4.43443443,   4.45445445,   4.47447447,\n",
       "         4.49449449,   4.51451451,   4.53453453,   4.55455455,\n",
       "         4.57457457,   4.59459459,   4.61461461,   4.63463463,\n",
       "         4.65465465,   4.67467467,   4.69469469,   4.71471471,\n",
       "         4.73473473,   4.75475475,   4.77477477,   4.79479479,\n",
       "         4.81481481,   4.83483483,   4.85485485,   4.87487487,\n",
       "         4.89489489,   4.91491491,   4.93493493,   4.95495495,\n",
       "         4.97497497,   4.99499499,   5.01501502,   5.03503504,\n",
       "         5.05505506,   5.07507508,   5.0950951 ,   5.11511512,\n",
       "         5.13513514,   5.15515516,   5.17517518,   5.1951952 ,\n",
       "         5.21521522,   5.23523524,   5.25525526,   5.27527528,\n",
       "         5.2952953 ,   5.31531532,   5.33533534,   5.35535536,\n",
       "         5.37537538,   5.3953954 ,   5.41541542,   5.43543544,\n",
       "         5.45545546,   5.47547548,   5.4954955 ,   5.51551552,\n",
       "         5.53553554,   5.55555556,   5.57557558,   5.5955956 ,\n",
       "         5.61561562,   5.63563564,   5.65565566,   5.67567568,\n",
       "         5.6956957 ,   5.71571572,   5.73573574,   5.75575576,\n",
       "         5.77577578,   5.7957958 ,   5.81581582,   5.83583584,\n",
       "         5.85585586,   5.87587588,   5.8958959 ,   5.91591592,\n",
       "         5.93593594,   5.95595596,   5.97597598,   5.995996  ,\n",
       "         6.01601602,   6.03603604,   6.05605606,   6.07607608,\n",
       "         6.0960961 ,   6.11611612,   6.13613614,   6.15615616,\n",
       "         6.17617618,   6.1961962 ,   6.21621622,   6.23623624,\n",
       "         6.25625626,   6.27627628,   6.2962963 ,   6.31631632,\n",
       "         6.33633634,   6.35635636,   6.37637638,   6.3963964 ,\n",
       "         6.41641642,   6.43643644,   6.45645646,   6.47647648,\n",
       "         6.4964965 ,   6.51651652,   6.53653654,   6.55655656,\n",
       "         6.57657658,   6.5965966 ,   6.61661662,   6.63663664,\n",
       "         6.65665666,   6.67667668,   6.6966967 ,   6.71671672,\n",
       "         6.73673674,   6.75675676,   6.77677678,   6.7967968 ,\n",
       "         6.81681682,   6.83683684,   6.85685686,   6.87687688,\n",
       "         6.8968969 ,   6.91691692,   6.93693694,   6.95695696,\n",
       "         6.97697698,   6.996997  ,   7.01701702,   7.03703704,\n",
       "         7.05705706,   7.07707708,   7.0970971 ,   7.11711712,\n",
       "         7.13713714,   7.15715716,   7.17717718,   7.1971972 ,\n",
       "         7.21721722,   7.23723724,   7.25725726,   7.27727728,\n",
       "         7.2972973 ,   7.31731732,   7.33733734,   7.35735736,\n",
       "         7.37737738,   7.3973974 ,   7.41741742,   7.43743744,\n",
       "         7.45745746,   7.47747748,   7.4974975 ,   7.51751752,\n",
       "         7.53753754,   7.55755756,   7.57757758,   7.5975976 ,\n",
       "         7.61761762,   7.63763764,   7.65765766,   7.67767768,\n",
       "         7.6976977 ,   7.71771772,   7.73773774,   7.75775776,\n",
       "         7.77777778,   7.7977978 ,   7.81781782,   7.83783784,\n",
       "         7.85785786,   7.87787788,   7.8978979 ,   7.91791792,\n",
       "         7.93793794,   7.95795796,   7.97797798,   7.997998  ,\n",
       "         8.01801802,   8.03803804,   8.05805806,   8.07807808,\n",
       "         8.0980981 ,   8.11811812,   8.13813814,   8.15815816,\n",
       "         8.17817818,   8.1981982 ,   8.21821822,   8.23823824,\n",
       "         8.25825826,   8.27827828,   8.2982983 ,   8.31831832,\n",
       "         8.33833834,   8.35835836,   8.37837838,   8.3983984 ,\n",
       "         8.41841842,   8.43843844,   8.45845846,   8.47847848,\n",
       "         8.4984985 ,   8.51851852,   8.53853854,   8.55855856,\n",
       "         8.57857858,   8.5985986 ,   8.61861862,   8.63863864,\n",
       "         8.65865866,   8.67867868,   8.6986987 ,   8.71871872,\n",
       "         8.73873874,   8.75875876,   8.77877878,   8.7987988 ,\n",
       "         8.81881882,   8.83883884,   8.85885886,   8.87887888,\n",
       "         8.8988989 ,   8.91891892,   8.93893894,   8.95895896,\n",
       "         8.97897898,   8.998999  ,   9.01901902,   9.03903904,\n",
       "         9.05905906,   9.07907908,   9.0990991 ,   9.11911912,\n",
       "         9.13913914,   9.15915916,   9.17917918,   9.1991992 ,\n",
       "         9.21921922,   9.23923924,   9.25925926,   9.27927928,\n",
       "         9.2992993 ,   9.31931932,   9.33933934,   9.35935936,\n",
       "         9.37937938,   9.3993994 ,   9.41941942,   9.43943944,\n",
       "         9.45945946,   9.47947948,   9.4994995 ,   9.51951952,\n",
       "         9.53953954,   9.55955956,   9.57957958,   9.5995996 ,\n",
       "         9.61961962,   9.63963964,   9.65965966,   9.67967968,\n",
       "         9.6996997 ,   9.71971972,   9.73973974,   9.75975976,\n",
       "         9.77977978,   9.7997998 ,   9.81981982,   9.83983984,\n",
       "         9.85985986,   9.87987988,   9.8998999 ,   9.91991992,\n",
       "         9.93993994,   9.95995996,   9.97997998,  10.        ])"
      ]
     },
     "execution_count": 121,
     "metadata": {},
     "output_type": "execute_result"
    }
   ],
   "source": [
    "xs"
   ]
  },
  {
   "cell_type": "code",
   "execution_count": 123,
   "id": "e21f72a7",
   "metadata": {},
   "outputs": [
    {
     "data": {
      "text/plain": [
       "Text(0.5, 1.0, 'График параболы')"
      ]
     },
     "execution_count": 123,
     "metadata": {},
     "output_type": "execute_result"
    },
    {
     "data": {
      "image/png": "[encoded data removed]",
      "text/plain": [
       "<Figure size 432x288 with 1 Axes>"
      ]
     },
     "metadata": {
      "needs_background": "light"
     },
     "output_type": "display_data"
    }
   ],
   "source": [
    "plt.plot(xs, ys)\n",
    "plt.xlabel(\"Икс\")\n",
    "plt.ylabel(\"Квадрат\")\n",
    "plt.title(\"График параболы\")"
   ]
  },
  {
   "cell_type": "code",
   "execution_count": 129,
   "id": "9f877792",
   "metadata": {},
   "outputs": [
    {
     "data": {
      "text/plain": [
       "<matplotlib.legend.Legend at 0x7f9979704160>"
      ]
     },
     "execution_count": 129,
     "metadata": {},
     "output_type": "execute_result"
    },
    {
     "data": {
      "image/png": "[encoded data removed]",
      "text/plain": [
       "<Figure size 432x288 with 1 Axes>"
      ]
     },
     "metadata": {
      "needs_background": "light"
     },
     "output_type": "display_data"
    }
   ],
   "source": [
    "ys1 = np.sin(xs)\n",
    "ys2 = np.sin(xs*10)\n",
    "\n",
    "plt.plot(xs, ys1, label=\"bjkedcd\")\n",
    "plt.plot(xs, ys2, label=\"kneskdckdl\")\n",
    "plt.xlabel(\"Икс\")\n",
    "plt.ylabel(\"Синус\")\n",
    "plt.title(\"График синуса\")\n",
    "plt.legend(loc=5)"
   ]
  },
  {
   "cell_type": "code",
   "execution_count": 132,
   "id": "10528908",
   "metadata": {},
   "outputs": [
    {
     "data": {
      "image/png": "[encoded data removed]",
      "text/plain": [
       "<Figure size 432x288 with 1 Axes>"
      ]
     },
     "metadata": {
      "needs_background": "light"
     },
     "output_type": "display_data"
    }
   ],
   "source": [
    "xs = np.linspace(-10, 10, 100)\n",
    "ys = np.random.rand(100)\n",
    "plt.scatter(xs, ys)\n",
    "plt.savefig(\"img.pdf\")\n",
    "# + еще подписать оси"
   ]
  },
  {
   "cell_type": "code",
   "execution_count": null,
   "id": "50bbc139",
   "metadata": {},
   "outputs": [],
   "source": []
  }
 ],
 "metadata": {
  "kernelspec": {
   "display_name": "Python 3 (ipykernel)",
   "language": "python",
   "name": "python3"
  },
  "language_info": {
   "codemirror_mode": {
    "name": "ipython",
    "version": 3
   },
   "file_extension": ".py",
   "mimetype": "text/x-python",
   "name": "python",
   "nbconvert_exporter": "python",
   "pygments_lexer": "ipython3",
   "version": "3.9.7"
  }
 },
 "nbformat": 4,
 "nbformat_minor": 5
}
